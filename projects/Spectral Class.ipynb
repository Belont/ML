{
  "nbformat": 4,
  "nbformat_minor": 0,
  "metadata": {
    "colab": {
      "name": "Вариант 3_Датасет 7.ipynb",
      "provenance": []
    },
    "kernelspec": {
      "name": "python3",
      "display_name": "Python 3"
    }
  },
  "cells": [
    {
      "cell_type": "code",
      "metadata": {
        "id": "P8cyoOw8ITjc"
      },
      "source": [
        "import numpy as np\n",
        "import matplotlib.pyplot as plt\n",
        "from sklearn.datasets import load_breast_cancer\n",
        "from sklearn.model_selection import train_test_split\n",
        "from sklearn.svm import SVC\n",
        "from sklearn.svm import LinearSVC\n",
        "from sklearn.metrics import classification_report\n",
        "from sklearn.model_selection import GridSearchCV\n",
        "import pandas as pd"
      ],
      "execution_count": null,
      "outputs": []
    },
    {
      "cell_type": "code",
      "metadata": {
        "colab": {
          "base_uri": "https://localhost:8080/"
        },
        "id": "183fIPHmKlHh",
        "outputId": "ed477e59-4407-4527-c151-719fd6226a86"
      },
      "source": [
        "from google.colab import drive\n",
        "drive.mount('/content/drive')"
      ],
      "execution_count": null,
      "outputs": [
        {
          "output_type": "stream",
          "text": [
            "Mounted at /content/drive\n"
          ],
          "name": "stdout"
        }
      ]
    },
    {
      "cell_type": "code",
      "metadata": {
        "id": "y5XU12eQKshk"
      },
      "source": [
        "df= pd.read_csv('/content/drive/MyDrive/6 class csv.csv')"
      ],
      "execution_count": null,
      "outputs": []
    },
    {
      "cell_type": "markdown",
      "metadata": {
        "id": "FR53-AnlLCkB"
      },
      "source": [
        "Посмотрим 5 первых и последних строк набора данных\n",
        "\n"
      ]
    },
    {
      "cell_type": "code",
      "metadata": {
        "colab": {
          "base_uri": "https://localhost:8080/",
          "height": 195
        },
        "id": "Abjg2F2fLDkv",
        "outputId": "7dc83e77-7cf6-4270-f6bb-62b1673aebbe"
      },
      "source": [
        "df.head()"
      ],
      "execution_count": null,
      "outputs": [
        {
          "output_type": "execute_result",
          "data": {
            "text/html": [
              "<div>\n",
              "<style scoped>\n",
              "    .dataframe tbody tr th:only-of-type {\n",
              "        vertical-align: middle;\n",
              "    }\n",
              "\n",
              "    .dataframe tbody tr th {\n",
              "        vertical-align: top;\n",
              "    }\n",
              "\n",
              "    .dataframe thead th {\n",
              "        text-align: right;\n",
              "    }\n",
              "</style>\n",
              "<table border=\"1\" class=\"dataframe\">\n",
              "  <thead>\n",
              "    <tr style=\"text-align: right;\">\n",
              "      <th></th>\n",
              "      <th>Temperature (K)</th>\n",
              "      <th>Luminosity(L/Lo)</th>\n",
              "      <th>Radius(R/Ro)</th>\n",
              "      <th>Absolute magnitude(Mv)</th>\n",
              "      <th>Star type</th>\n",
              "      <th>Star color</th>\n",
              "      <th>Spectral Class</th>\n",
              "    </tr>\n",
              "  </thead>\n",
              "  <tbody>\n",
              "    <tr>\n",
              "      <th>0</th>\n",
              "      <td>3068</td>\n",
              "      <td>0.002400</td>\n",
              "      <td>0.1700</td>\n",
              "      <td>16.12</td>\n",
              "      <td>0</td>\n",
              "      <td>Red</td>\n",
              "      <td>M</td>\n",
              "    </tr>\n",
              "    <tr>\n",
              "      <th>1</th>\n",
              "      <td>3042</td>\n",
              "      <td>0.000500</td>\n",
              "      <td>0.1542</td>\n",
              "      <td>16.60</td>\n",
              "      <td>0</td>\n",
              "      <td>Red</td>\n",
              "      <td>M</td>\n",
              "    </tr>\n",
              "    <tr>\n",
              "      <th>2</th>\n",
              "      <td>2600</td>\n",
              "      <td>0.000300</td>\n",
              "      <td>0.1020</td>\n",
              "      <td>18.70</td>\n",
              "      <td>0</td>\n",
              "      <td>Red</td>\n",
              "      <td>M</td>\n",
              "    </tr>\n",
              "    <tr>\n",
              "      <th>3</th>\n",
              "      <td>2800</td>\n",
              "      <td>0.000200</td>\n",
              "      <td>0.1600</td>\n",
              "      <td>16.65</td>\n",
              "      <td>0</td>\n",
              "      <td>Red</td>\n",
              "      <td>M</td>\n",
              "    </tr>\n",
              "    <tr>\n",
              "      <th>4</th>\n",
              "      <td>1939</td>\n",
              "      <td>0.000138</td>\n",
              "      <td>0.1030</td>\n",
              "      <td>20.06</td>\n",
              "      <td>0</td>\n",
              "      <td>Red</td>\n",
              "      <td>M</td>\n",
              "    </tr>\n",
              "  </tbody>\n",
              "</table>\n",
              "</div>"
            ],
            "text/plain": [
              "   Temperature (K)  Luminosity(L/Lo)  ...  Star color  Spectral Class\n",
              "0             3068          0.002400  ...         Red               M\n",
              "1             3042          0.000500  ...         Red               M\n",
              "2             2600          0.000300  ...         Red               M\n",
              "3             2800          0.000200  ...         Red               M\n",
              "4             1939          0.000138  ...         Red               M\n",
              "\n",
              "[5 rows x 7 columns]"
            ]
          },
          "metadata": {
            "tags": []
          },
          "execution_count": 4
        }
      ]
    },
    {
      "cell_type": "markdown",
      "metadata": {
        "id": "D2rpwjhlLJIJ"
      },
      "source": [
        "Выведем количество строк и столбцов"
      ]
    },
    {
      "cell_type": "code",
      "metadata": {
        "colab": {
          "base_uri": "https://localhost:8080/"
        },
        "id": "abKvy-40LHNC",
        "outputId": "f9ca2441-0032-4a1f-da72-61bebc733218"
      },
      "source": [
        "print('Dataset has {} number of rows and {} Number of columns'.format ( df.shape[0], df.shape[1]) )"
      ],
      "execution_count": null,
      "outputs": [
        {
          "output_type": "stream",
          "text": [
            "Dataset has 240 number of rows and 7 Number of columns\n"
          ],
          "name": "stdout"
        }
      ]
    },
    {
      "cell_type": "markdown",
      "metadata": {
        "id": "sUR1lH8rLM1q"
      },
      "source": [
        "Выведем информацию о датасете"
      ]
    },
    {
      "cell_type": "code",
      "metadata": {
        "colab": {
          "base_uri": "https://localhost:8080/"
        },
        "id": "3VXIfKMWLQWr",
        "outputId": "ffb1e3dc-cc57-42e7-9bb2-f0fa3f8b1734"
      },
      "source": [
        "df.info()"
      ],
      "execution_count": null,
      "outputs": [
        {
          "output_type": "stream",
          "text": [
            "<class 'pandas.core.frame.DataFrame'>\n",
            "RangeIndex: 240 entries, 0 to 239\n",
            "Data columns (total 7 columns):\n",
            " #   Column                  Non-Null Count  Dtype  \n",
            "---  ------                  --------------  -----  \n",
            " 0   Temperature (K)         240 non-null    int64  \n",
            " 1   Luminosity(L/Lo)        240 non-null    float64\n",
            " 2   Radius(R/Ro)            240 non-null    float64\n",
            " 3   Absolute magnitude(Mv)  240 non-null    float64\n",
            " 4   Star type               240 non-null    int64  \n",
            " 5   Star color              240 non-null    object \n",
            " 6   Spectral Class          240 non-null    object \n",
            "dtypes: float64(3), int64(2), object(2)\n",
            "memory usage: 13.2+ KB\n"
          ],
          "name": "stdout"
        }
      ]
    },
    {
      "cell_type": "markdown",
      "metadata": {
        "id": "wugeaUdyLTYA"
      },
      "source": [
        "Выведем характеристики отдельно: типы столбцов"
      ]
    },
    {
      "cell_type": "code",
      "metadata": {
        "colab": {
          "base_uri": "https://localhost:8080/"
        },
        "id": "Gx0z8E81LVNd",
        "outputId": "33cf448d-f811-4432-854c-6fecd595198a"
      },
      "source": [
        "df.dtypes"
      ],
      "execution_count": null,
      "outputs": [
        {
          "output_type": "execute_result",
          "data": {
            "text/plain": [
              "Temperature (K)             int64\n",
              "Luminosity(L/Lo)          float64\n",
              "Radius(R/Ro)              float64\n",
              "Absolute magnitude(Mv)    float64\n",
              "Star type                   int64\n",
              "Star color                 object\n",
              "Spectral Class             object\n",
              "dtype: object"
            ]
          },
          "metadata": {
            "tags": []
          },
          "execution_count": 7
        }
      ]
    },
    {
      "cell_type": "markdown",
      "metadata": {
        "id": "uYmX6KNgLYn-"
      },
      "source": [
        "Описательная статистика"
      ]
    },
    {
      "cell_type": "code",
      "metadata": {
        "colab": {
          "base_uri": "https://localhost:8080/",
          "height": 284
        },
        "id": "D9tsOAT8Lcph",
        "outputId": "2b1e8218-95e4-493c-b85c-c4a0bb04ed87"
      },
      "source": [
        "df.describe()"
      ],
      "execution_count": null,
      "outputs": [
        {
          "output_type": "execute_result",
          "data": {
            "text/html": [
              "<div>\n",
              "<style scoped>\n",
              "    .dataframe tbody tr th:only-of-type {\n",
              "        vertical-align: middle;\n",
              "    }\n",
              "\n",
              "    .dataframe tbody tr th {\n",
              "        vertical-align: top;\n",
              "    }\n",
              "\n",
              "    .dataframe thead th {\n",
              "        text-align: right;\n",
              "    }\n",
              "</style>\n",
              "<table border=\"1\" class=\"dataframe\">\n",
              "  <thead>\n",
              "    <tr style=\"text-align: right;\">\n",
              "      <th></th>\n",
              "      <th>Temperature (K)</th>\n",
              "      <th>Luminosity(L/Lo)</th>\n",
              "      <th>Radius(R/Ro)</th>\n",
              "      <th>Absolute magnitude(Mv)</th>\n",
              "      <th>Star type</th>\n",
              "    </tr>\n",
              "  </thead>\n",
              "  <tbody>\n",
              "    <tr>\n",
              "      <th>count</th>\n",
              "      <td>240.000000</td>\n",
              "      <td>240.000000</td>\n",
              "      <td>240.000000</td>\n",
              "      <td>240.000000</td>\n",
              "      <td>240.000000</td>\n",
              "    </tr>\n",
              "    <tr>\n",
              "      <th>mean</th>\n",
              "      <td>10497.462500</td>\n",
              "      <td>107188.361635</td>\n",
              "      <td>237.157781</td>\n",
              "      <td>4.382396</td>\n",
              "      <td>2.500000</td>\n",
              "    </tr>\n",
              "    <tr>\n",
              "      <th>std</th>\n",
              "      <td>9552.425037</td>\n",
              "      <td>179432.244940</td>\n",
              "      <td>517.155763</td>\n",
              "      <td>10.532512</td>\n",
              "      <td>1.711394</td>\n",
              "    </tr>\n",
              "    <tr>\n",
              "      <th>min</th>\n",
              "      <td>1939.000000</td>\n",
              "      <td>0.000080</td>\n",
              "      <td>0.008400</td>\n",
              "      <td>-11.920000</td>\n",
              "      <td>0.000000</td>\n",
              "    </tr>\n",
              "    <tr>\n",
              "      <th>25%</th>\n",
              "      <td>3344.250000</td>\n",
              "      <td>0.000865</td>\n",
              "      <td>0.102750</td>\n",
              "      <td>-6.232500</td>\n",
              "      <td>1.000000</td>\n",
              "    </tr>\n",
              "    <tr>\n",
              "      <th>50%</th>\n",
              "      <td>5776.000000</td>\n",
              "      <td>0.070500</td>\n",
              "      <td>0.762500</td>\n",
              "      <td>8.313000</td>\n",
              "      <td>2.500000</td>\n",
              "    </tr>\n",
              "    <tr>\n",
              "      <th>75%</th>\n",
              "      <td>15055.500000</td>\n",
              "      <td>198050.000000</td>\n",
              "      <td>42.750000</td>\n",
              "      <td>13.697500</td>\n",
              "      <td>4.000000</td>\n",
              "    </tr>\n",
              "    <tr>\n",
              "      <th>max</th>\n",
              "      <td>40000.000000</td>\n",
              "      <td>849420.000000</td>\n",
              "      <td>1948.500000</td>\n",
              "      <td>20.060000</td>\n",
              "      <td>5.000000</td>\n",
              "    </tr>\n",
              "  </tbody>\n",
              "</table>\n",
              "</div>"
            ],
            "text/plain": [
              "       Temperature (K)  Luminosity(L/Lo)  ...  Absolute magnitude(Mv)   Star type\n",
              "count       240.000000        240.000000  ...              240.000000  240.000000\n",
              "mean      10497.462500     107188.361635  ...                4.382396    2.500000\n",
              "std        9552.425037     179432.244940  ...               10.532512    1.711394\n",
              "min        1939.000000          0.000080  ...              -11.920000    0.000000\n",
              "25%        3344.250000          0.000865  ...               -6.232500    1.000000\n",
              "50%        5776.000000          0.070500  ...                8.313000    2.500000\n",
              "75%       15055.500000     198050.000000  ...               13.697500    4.000000\n",
              "max       40000.000000     849420.000000  ...               20.060000    5.000000\n",
              "\n",
              "[8 rows x 5 columns]"
            ]
          },
          "metadata": {
            "tags": []
          },
          "execution_count": 8
        }
      ]
    },
    {
      "cell_type": "markdown",
      "metadata": {
        "id": "zwKB17JTLgMy"
      },
      "source": [
        "Количество нулевых значений"
      ]
    },
    {
      "cell_type": "code",
      "metadata": {
        "colab": {
          "base_uri": "https://localhost:8080/"
        },
        "id": "2EAcyzd4Lj-B",
        "outputId": "e690c97a-cb8f-4627-b894-1b6fd7f53980"
      },
      "source": [
        "df.isnull().sum()"
      ],
      "execution_count": null,
      "outputs": [
        {
          "output_type": "execute_result",
          "data": {
            "text/plain": [
              "Temperature (K)           0\n",
              "Luminosity(L/Lo)          0\n",
              "Radius(R/Ro)              0\n",
              "Absolute magnitude(Mv)    0\n",
              "Star type                 0\n",
              "Star color                0\n",
              "Spectral Class            0\n",
              "dtype: int64"
            ]
          },
          "metadata": {
            "tags": []
          },
          "execution_count": 9
        }
      ]
    },
    {
      "cell_type": "markdown",
      "metadata": {
        "id": "btUieNTQLolR"
      },
      "source": [
        "Количество уникальных значений"
      ]
    },
    {
      "cell_type": "code",
      "metadata": {
        "colab": {
          "base_uri": "https://localhost:8080/"
        },
        "id": "VVF2Kj0wLq22",
        "outputId": "a01f047e-e11a-4a77-f9a7-f77703482a01"
      },
      "source": [
        "df.nunique()"
      ],
      "execution_count": null,
      "outputs": [
        {
          "output_type": "execute_result",
          "data": {
            "text/plain": [
              "Temperature (K)           228\n",
              "Luminosity(L/Lo)          208\n",
              "Radius(R/Ro)              216\n",
              "Absolute magnitude(Mv)    228\n",
              "Star type                   6\n",
              "Star color                 19\n",
              "Spectral Class              7\n",
              "dtype: int64"
            ]
          },
          "metadata": {
            "tags": []
          },
          "execution_count": 10
        }
      ]
    },
    {
      "cell_type": "markdown",
      "metadata": {
        "id": "kaZfirtMLtR7"
      },
      "source": [
        "Построение моделей"
      ]
    },
    {
      "cell_type": "markdown",
      "metadata": {
        "id": "TYeIiydlL4od"
      },
      "source": [
        "Некоторые столбцы являются полностью текстовыми. Как мы знаем, мы не можем использовать текст в данных для обучения модели. Поэтому, прежде чем мы сможем начать процесс, нам нужно эти данные подготовить.\n",
        "\n",
        "И для преобразования подобных категорий в понятные модели числовые данные мы используем класс LabelEncoder. Таким образом, всё что нам нужно сделать, чтобы получить признак для текстового столбца, это импортировать класс из библиотеки sklearn, обработать колонку функцией fit_transform и заменить существующие текстовые данные новыми закодированными."
      ]
    },
    {
      "cell_type": "code",
      "metadata": {
        "id": "E1s-wY0pL8eK"
      },
      "source": [
        "from sklearn.preprocessing import LabelEncoder\n"
      ],
      "execution_count": null,
      "outputs": []
    },
    {
      "cell_type": "code",
      "metadata": {
        "id": "HBZTmcmIMANv"
      },
      "source": [
        "le = LabelEncoder()\n",
        "df['Star color'] = le.fit_transform(df['Star color'])\n",
        "df['Spectral Class'] = le.fit_transform(df['Spectral Class'])"
      ],
      "execution_count": null,
      "outputs": []
    },
    {
      "cell_type": "markdown",
      "metadata": {
        "id": "YQ5AvP1qM_wQ"
      },
      "source": [
        "Выделяем целевую переменную и факторные переменные и делим выборку на тестовую и тренировочную"
      ]
    },
    {
      "cell_type": "code",
      "metadata": {
        "id": "kMR0NohqNAfI"
      },
      "source": [
        "y = df['Spectral Class']\n",
        "X = df[['Temperature (K)',\t'Luminosity(L/Lo)',\t'Radius(R/Ro)',\t'Absolute magnitude(Mv)',\t'Star type',\t'Star color',\t'Spectral Class']]\n",
        "train_X, test_X, train_y, test_y = train_test_split(X, y, test_size=0.2)"
      ],
      "execution_count": null,
      "outputs": []
    },
    {
      "cell_type": "markdown",
      "metadata": {
        "id": "g4e6To_VN_Ol"
      },
      "source": [
        "Обучим модель методом опорных векторов без подбора гиперпараметров"
      ]
    },
    {
      "cell_type": "code",
      "metadata": {
        "colab": {
          "base_uri": "https://localhost:8080/"
        },
        "id": "QHUK_YqSNSW6",
        "outputId": "d356c0c8-f8e7-4916-b3c8-d74aef4171fa"
      },
      "source": [
        "clf = SVC(C=0.01)\n",
        " \n",
        "clf.fit(train_X, train_y)\n",
        "y_pred = clf.predict(test_X)\n",
        "print(\"The accuracy of our model on train set: {}\".format(clf.score(train_X, train_y)))\n",
        "print(\"The accuracy of our model on test set: {}\".format(clf.score(test_X, test_y)))\n",
        "print(classification_report(test_y, y_pred))"
      ],
      "execution_count": null,
      "outputs": [
        {
          "output_type": "stream",
          "text": [
            "The accuracy of our model on train set: 0.4947916666666667\n",
            "The accuracy of our model on test set: 0.3333333333333333\n",
            "              precision    recall  f1-score   support\n",
            "\n",
            "           0       0.00      0.00      0.00         4\n",
            "           1       0.00      0.00      0.00        14\n",
            "           2       0.00      0.00      0.00         2\n",
            "           5       0.33      1.00      0.50        16\n",
            "           6       0.00      0.00      0.00        12\n",
            "\n",
            "    accuracy                           0.33        48\n",
            "   macro avg       0.07      0.20      0.10        48\n",
            "weighted avg       0.11      0.33      0.17        48\n",
            "\n"
          ],
          "name": "stdout"
        },
        {
          "output_type": "stream",
          "text": [
            "/usr/local/lib/python3.6/dist-packages/sklearn/metrics/_classification.py:1272: UndefinedMetricWarning: Precision and F-score are ill-defined and being set to 0.0 in labels with no predicted samples. Use `zero_division` parameter to control this behavior.\n",
            "  _warn_prf(average, modifier, msg_start, len(result))\n"
          ],
          "name": "stderr"
        }
      ]
    },
    {
      "cell_type": "markdown",
      "metadata": {
        "id": "Yql4dKkoOIqv"
      },
      "source": [
        "Видим, что получилась очень низкая точность. Попробуем осуществить то же самое в цикле, изменяя длину обучающей выборки:"
      ]
    },
    {
      "cell_type": "code",
      "metadata": {
        "colab": {
          "base_uri": "https://localhost:8080/",
          "height": 337
        },
        "id": "lKhp7IyaN3Yx",
        "outputId": "d401bf34-278c-41eb-9a5d-691d67648a32"
      },
      "source": [
        "training_scores = []\n",
        "test_scores = []\n",
        "numbers = []\n",
        " \n",
        "for i in np.linspace(20, len(train_X), 20):\n",
        "    \n",
        "    clf = SVC(C=10, kernel='rbf')\n",
        "    X = train_X[:int(i)]\n",
        "    Y = train_y[:int(i)]\n",
        "    clf.fit(X, Y)\n",
        "    \n",
        "    numbers.append(int(i))\n",
        "    training_scores.append(clf.score(train_X, train_y))\n",
        "    test_scores.append(clf.score(test_X, test_y))\n",
        "    \n",
        "plt.figure(figsize=(10, 5))\n",
        "plt.plot(numbers, training_scores, label=\"training scores\")\n",
        "plt.plot(numbers, test_scores, label=\"test scores\")\n",
        "plt.legend(loc=\"best\")"
      ],
      "execution_count": null,
      "outputs": [
        {
          "output_type": "execute_result",
          "data": {
            "text/plain": [
              "<matplotlib.legend.Legend at 0x7fdafd2fd160>"
            ]
          },
          "metadata": {
            "tags": []
          },
          "execution_count": 15
        },
        {
          "output_type": "display_data",
          "data": {
            "image/png": "[encoded data removed]",
            "text/plain": [
              "<Figure size 720x360 with 1 Axes>"
            ]
          },
          "metadata": {
            "tags": [],
            "needs_background": "light"
          }
        }
      ]
    },
    {
      "cell_type": "markdown",
      "metadata": {
        "id": "8LtLrGURO0kC"
      },
      "source": [
        "Видим, что тестовая точность выше обучающей, это говорит о наличии случайных ошибок выборки тестовой модели. Такие ошибки неизбежно присутствуют и могут зашумлять результаты диагностики. "
      ]
    },
    {
      "cell_type": "markdown",
      "metadata": {
        "id": "gSt-04xEPNwD"
      },
      "source": [
        "Теперь попробуем подобрать гиперпараметры с помощью цикла while"
      ]
    },
    {
      "cell_type": "code",
      "metadata": {
        "id": "VXU_y0v0PVCi"
      },
      "source": [
        "training_scores = []\n",
        "test_scores = []\n",
        "numbers = []\n",
        "i= 0.0001\n",
        "while i <= 1000000:\n",
        "    numbers.append(i)\n",
        "    clf = SVC(C=i, kernel='rbf')\n",
        "    clf.fit(train_X, train_y)\n",
        "    training_scores.append(clf.score(train_X, train_y))\n",
        "    test_scores.append(clf.score(test_X, test_y))\n",
        "    i += 10000"
      ],
      "execution_count": null,
      "outputs": []
    },
    {
      "cell_type": "code",
      "metadata": {
        "colab": {
          "base_uri": "https://localhost:8080/",
          "height": 350
        },
        "id": "dIvvxLxOP4v4",
        "outputId": "ed0c32ab-8c6c-4063-ae7e-a2f264a1c40f"
      },
      "source": [
        "plt.figure(figsize=(10, 5))\n",
        "plt.plot(numbers, training_scores, label=\"training scores\")\n",
        "plt.plot(numbers, test_scores, label=\"test scores\")\n",
        "plt.legend(loc=\"lower right\")"
      ],
      "execution_count": null,
      "outputs": [
        {
          "output_type": "execute_result",
          "data": {
            "text/plain": [
              "<matplotlib.legend.Legend at 0x7fdafcde9ac8>"
            ]
          },
          "metadata": {
            "tags": []
          },
          "execution_count": 17
        },
        {
          "output_type": "display_data",
          "data": {
            "image/png": "[encoded data removed]",
            "text/plain": [
              "<Figure size 720x360 with 1 Axes>"
            ]
          },
          "metadata": {
            "tags": [],
            "needs_background": "light"
          }
        }
      ]
    },
    {
      "cell_type": "markdown",
      "metadata": {
        "id": "vq_R8nr1P-17"
      },
      "source": [
        "Если тестовая точность значительно ниже обучающей, это свидетельствует о потенциальном переобучении и потере способности к переобучению. Видим, что переобучение начинается практически с первых итераций цикла, наилучшее С меньше 10000"
      ]
    },
    {
      "cell_type": "markdown",
      "metadata": {
        "id": "LsLkW4-bQV3K"
      },
      "source": [
        "Попробуем подобрать наилучший гиперпараметр С с помощью функции GridSearchCV"
      ]
    },
    {
      "cell_type": "code",
      "metadata": {
        "colab": {
          "base_uri": "https://localhost:8080/"
        },
        "id": "rfCIFFybQgHT",
        "outputId": "f854120d-1edb-4cbe-f542-f1bd98a0c7a5"
      },
      "source": [
        "param_grid = {'C': [1e1, 1e2, 1e3, 5e3, 1e4, 5e4, 1e5],\n",
        "              'gamma': [0.0001, 0.0005, 0.001, 0.005, 0.01, 0.1], }\n",
        "model1 = GridSearchCV(\n",
        "    SVC(kernel='rbf', class_weight='balanced'), param_grid\n",
        ")\n",
        "model1 = model1.fit(train_X, train_y)\n",
        "y_pred2 = model1.predict(test_X)\n",
        "print(\"Best estimator found by grid search:\")\n",
        "print(model1.best_estimator_)"
      ],
      "execution_count": null,
      "outputs": [
        {
          "output_type": "stream",
          "text": [
            "/usr/local/lib/python3.6/dist-packages/sklearn/model_selection/_split.py:667: UserWarning: The least populated class in y has only 1 members, which is less than n_splits=5.\n",
            "  % (min_groups, self.n_splits)), UserWarning)\n"
          ],
          "name": "stderr"
        },
        {
          "output_type": "stream",
          "text": [
            "Best estimator found by grid search:\n",
            "SVC(C=10.0, break_ties=False, cache_size=200, class_weight='balanced',\n",
            "    coef0=0.0, decision_function_shape='ovr', degree=3, gamma=0.0001,\n",
            "    kernel='rbf', max_iter=-1, probability=False, random_state=None,\n",
            "    shrinking=True, tol=0.001, verbose=False)\n"
          ],
          "name": "stdout"
        }
      ]
    },
    {
      "cell_type": "markdown",
      "metadata": {
        "id": "WTNkzPOUREWR"
      },
      "source": [
        "Получаем наилучшие гиперпараметры модели, посмотрим, как изменилась от этого точность модели:"
      ]
    },
    {
      "cell_type": "code",
      "metadata": {
        "colab": {
          "base_uri": "https://localhost:8080/"
        },
        "id": "hjBA4zyFRPOF",
        "outputId": "288eb172-f368-4a96-aee9-ea07cd8a57fb"
      },
      "source": [
        "print(classification_report(test_y, y_pred2))"
      ],
      "execution_count": null,
      "outputs": [
        {
          "output_type": "stream",
          "text": [
            "              precision    recall  f1-score   support\n",
            "\n",
            "           0       0.00      0.00      0.00         4\n",
            "           1       0.67      0.14      0.24        14\n",
            "           2       0.00      0.00      0.00         2\n",
            "           5       0.36      1.00      0.52        16\n",
            "           6       0.00      0.00      0.00        12\n",
            "\n",
            "    accuracy                           0.38        48\n",
            "   macro avg       0.20      0.23      0.15        48\n",
            "weighted avg       0.31      0.38      0.24        48\n",
            "\n"
          ],
          "name": "stdout"
        },
        {
          "output_type": "stream",
          "text": [
            "/usr/local/lib/python3.6/dist-packages/sklearn/metrics/_classification.py:1272: UndefinedMetricWarning: Precision and F-score are ill-defined and being set to 0.0 in labels with no predicted samples. Use `zero_division` parameter to control this behavior.\n",
            "  _warn_prf(average, modifier, msg_start, len(result))\n"
          ],
          "name": "stderr"
        }
      ]
    },
    {
      "cell_type": "markdown",
      "metadata": {
        "id": "ozepHOHURp4s"
      },
      "source": [
        "Точность стала выше, но незначительно, в целом модель незначима и не может использоваться для решения реальных задач."
      ]
    },
    {
      "cell_type": "code",
      "metadata": {
        "id": "JBAGPyxkRz3K"
      },
      "source": [
        "from sklearn.ensemble import RandomForestClassifier"
      ],
      "execution_count": null,
      "outputs": []
    },
    {
      "cell_type": "code",
      "metadata": {
        "colab": {
          "base_uri": "https://localhost:8080/"
        },
        "id": "2YoJhegF4sXK",
        "outputId": "3896c8df-2b76-4bc4-f156-eede3728f0ea"
      },
      "source": [
        "rfc = RandomForestClassifier()\n",
        "param_grid2 = {'n_estimators': [1,2,5,10,100,500,1000],\n",
        "              'criterion': ['gini', 'entropy']}\n",
        "model2 = GridSearchCV(\n",
        "    RandomForestClassifier(), param_grid2\n",
        ")\n",
        "model2 = model2.fit(train_X, train_y)\n",
        "y_pred3 = model2.predict(test_X)"
      ],
      "execution_count": null,
      "outputs": [
        {
          "output_type": "stream",
          "text": [
            "/usr/local/lib/python3.6/dist-packages/sklearn/model_selection/_split.py:667: UserWarning: The least populated class in y has only 1 members, which is less than n_splits=5.\n",
            "  % (min_groups, self.n_splits)), UserWarning)\n"
          ],
          "name": "stderr"
        }
      ]
    },
    {
      "cell_type": "code",
      "metadata": {
        "colab": {
          "base_uri": "https://localhost:8080/"
        },
        "id": "ZrKvUhCO602G",
        "outputId": "93d6c2a7-fbde-4d7e-e3c1-a25a5e39610a"
      },
      "source": [
        "print(\"Best estimator found by grid search:\")\n",
        "print(model2.best_estimator_)"
      ],
      "execution_count": null,
      "outputs": [
        {
          "output_type": "stream",
          "text": [
            "Best estimator found by grid search:\n",
            "RandomForestClassifier(bootstrap=True, ccp_alpha=0.0, class_weight=None,\n",
            "                       criterion='gini', max_depth=None, max_features='auto',\n",
            "                       max_leaf_nodes=None, max_samples=None,\n",
            "                       min_impurity_decrease=0.0, min_impurity_split=None,\n",
            "                       min_samples_leaf=1, min_samples_split=2,\n",
            "                       min_weight_fraction_leaf=0.0, n_estimators=500,\n",
            "                       n_jobs=None, oob_score=False, random_state=None,\n",
            "                       verbose=0, warm_start=False)\n"
          ],
          "name": "stdout"
        }
      ]
    },
    {
      "cell_type": "code",
      "metadata": {
        "colab": {
          "base_uri": "https://localhost:8080/"
        },
        "id": "-J_ItB-466sM",
        "outputId": "d7b89a01-91af-4b31-d6cd-973147c5f6d6"
      },
      "source": [
        "print(classification_report(test_y, y_pred3))"
      ],
      "execution_count": null,
      "outputs": [
        {
          "output_type": "stream",
          "text": [
            "              precision    recall  f1-score   support\n",
            "\n",
            "           0       1.00      1.00      1.00         4\n",
            "           1       1.00      1.00      1.00        14\n",
            "           2       1.00      1.00      1.00         2\n",
            "           5       1.00      1.00      1.00        16\n",
            "           6       1.00      1.00      1.00        12\n",
            "\n",
            "    accuracy                           1.00        48\n",
            "   macro avg       1.00      1.00      1.00        48\n",
            "weighted avg       1.00      1.00      1.00        48\n",
            "\n"
          ],
          "name": "stdout"
        }
      ]
    },
    {
      "cell_type": "markdown",
      "metadata": {
        "id": "d6af_aXo7Bdg"
      },
      "source": [
        "С помощью randome forest мы получили точность 1, что вызывает некоторые сомнения, однако если не брать во внимание поразительную точность, конечно, данная модель получается лучше предыдущих"
      ]
    },
    {
      "cell_type": "code",
      "metadata": {
        "id": "6OBIRDu87WBy"
      },
      "source": [
        ""
      ],
      "execution_count": null,
      "outputs": []
    }
  ]
}