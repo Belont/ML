{
  "nbformat": 4,
  "nbformat_minor": 0,
  "metadata": {
    "kernelspec": {
      "display_name": "Python 3",
      "language": "python",
      "name": "python3"
    },
    "language_info": {
      "codemirror_mode": {
        "name": "ipython",
        "version": 3
      },
      "file_extension": ".py",
      "mimetype": "text/x-python",
      "name": "python",
      "nbconvert_exporter": "python",
      "pygments_lexer": "ipython3",
      "version": "3.6.5"
    },
    "colab": {
      "name": "5_variant__dataset_12.ipynb",
      "provenance": []
    }
  },
  "cells": [
    {
      "cell_type": "markdown",
      "metadata": {
        "id": "LhV24q55BOzQ"
      },
      "source": [
        "## Загрузка необходимых библиотек"
      ]
    },
    {
      "cell_type": "code",
      "metadata": {
        "id": "z6MApybQBOzf"
      },
      "source": [
        "import pandas as pd\n",
        "import seaborn as sns\n",
        "import matplotlib.pyplot as plt\n",
        "from sklearn.model_selection import train_test_split\n",
        "from sklearn.linear_model import LogisticRegression\n",
        "import  numpy as np\n",
        "import matplotlib.pyplot as plt\n",
        "import seaborn as sns\n",
        "from sklearn import metrics\n",
        "from sklearn.svm import SVC\n",
        "from sklearn.preprocessing import PolynomialFeatures\n",
        "from sklearn import metrics\n",
        "%matplotlib inline\n",
        "from sklearn. preprocessing import StandardScaler\n",
        "from sklearn.decomposition import PCA\n",
        "plt.style.use('ggplot')"
      ],
      "execution_count": null,
      "outputs": []
    },
    {
      "cell_type": "code",
      "metadata": {
        "colab": {
          "base_uri": "https://localhost:8080/"
        },
        "id": "fNUeDsewDVRC",
        "outputId": "22880008-3fb0-43db-94d5-c097ae2c84a9"
      },
      "source": [
        "from google.colab import drive\n",
        "drive.mount('/content/drive')"
      ],
      "execution_count": null,
      "outputs": [
        {
          "output_type": "stream",
          "text": [
            "Drive already mounted at /content/drive; to attempt to forcibly remount, call drive.mount(\"/content/drive\", force_remount=True).\n"
          ],
          "name": "stdout"
        }
      ]
    },
    {
      "cell_type": "markdown",
      "metadata": {
        "id": "NaiBGU26BOzh"
      },
      "source": [
        "## Загрузка датасета"
      ]
    },
    {
      "cell_type": "code",
      "metadata": {
        "id": "amEd3kYrBOzi"
      },
      "source": [
        "df= pd.read_csv('/content/drive/MyDrive/summary.csv')"
      ],
      "execution_count": null,
      "outputs": []
    },
    {
      "cell_type": "markdown",
      "metadata": {
        "id": "-_1RvSPYBOzi"
      },
      "source": [
        "#### Посмотрим 5 первых и последних строк набора данных"
      ]
    },
    {
      "cell_type": "code",
      "metadata": {
        "colab": {
          "base_uri": "https://localhost:8080/",
          "height": 299
        },
        "id": "lfAS2MIqBOzj",
        "outputId": "23dd97b0-6d51-4ab7-aa2c-fd5f145cf33c"
      },
      "source": [
        "df.head()"
      ],
      "execution_count": null,
      "outputs": [
        {
          "output_type": "execute_result",
          "data": {
            "text/html": [
              "<div>\n",
              "<style scoped>\n",
              "    .dataframe tbody tr th:only-of-type {\n",
              "        vertical-align: middle;\n",
              "    }\n",
              "\n",
              "    .dataframe tbody tr th {\n",
              "        vertical-align: top;\n",
              "    }\n",
              "\n",
              "    .dataframe thead th {\n",
              "        text-align: right;\n",
              "    }\n",
              "</style>\n",
              "<table border=\"1\" class=\"dataframe\">\n",
              "  <thead>\n",
              "    <tr style=\"text-align: right;\">\n",
              "      <th></th>\n",
              "      <th>Name</th>\n",
              "      <th>GamesPlayed</th>\n",
              "      <th>MinutesPlayed</th>\n",
              "      <th>PointsPerGame</th>\n",
              "      <th>FieldGoalsMade</th>\n",
              "      <th>FieldGoalsAttempt</th>\n",
              "      <th>FieldGoalPercent</th>\n",
              "      <th>3PointMade</th>\n",
              "      <th>3PointAttempt</th>\n",
              "      <th>3PointPercent</th>\n",
              "      <th>FreeThrowMade</th>\n",
              "      <th>FreeThrowAttempt</th>\n",
              "      <th>FreeThrowPercent</th>\n",
              "      <th>OffensiveRebounds</th>\n",
              "      <th>DefensiveRebounds</th>\n",
              "      <th>Rebounds</th>\n",
              "      <th>Assists</th>\n",
              "      <th>Steals</th>\n",
              "      <th>Blocks</th>\n",
              "      <th>Turnovers</th>\n",
              "      <th>Target</th>\n",
              "    </tr>\n",
              "  </thead>\n",
              "  <tbody>\n",
              "    <tr>\n",
              "      <th>0</th>\n",
              "      <td>Brandon Ingram</td>\n",
              "      <td>36</td>\n",
              "      <td>27.4</td>\n",
              "      <td>7.4</td>\n",
              "      <td>2.6</td>\n",
              "      <td>7.6</td>\n",
              "      <td>34.7</td>\n",
              "      <td>0.5</td>\n",
              "      <td>2.1</td>\n",
              "      <td>25.0</td>\n",
              "      <td>1.6</td>\n",
              "      <td>2.3</td>\n",
              "      <td>69.9</td>\n",
              "      <td>0.7</td>\n",
              "      <td>3.4</td>\n",
              "      <td>4.1</td>\n",
              "      <td>1.9</td>\n",
              "      <td>0.4</td>\n",
              "      <td>0.4</td>\n",
              "      <td>1.3</td>\n",
              "      <td>0</td>\n",
              "    </tr>\n",
              "    <tr>\n",
              "      <th>1</th>\n",
              "      <td>Andrew Harrison</td>\n",
              "      <td>35</td>\n",
              "      <td>26.9</td>\n",
              "      <td>7.2</td>\n",
              "      <td>2.0</td>\n",
              "      <td>6.7</td>\n",
              "      <td>29.6</td>\n",
              "      <td>0.7</td>\n",
              "      <td>2.8</td>\n",
              "      <td>23.5</td>\n",
              "      <td>2.6</td>\n",
              "      <td>3.4</td>\n",
              "      <td>76.5</td>\n",
              "      <td>0.5</td>\n",
              "      <td>2.0</td>\n",
              "      <td>2.4</td>\n",
              "      <td>3.7</td>\n",
              "      <td>1.1</td>\n",
              "      <td>0.5</td>\n",
              "      <td>1.6</td>\n",
              "      <td>0</td>\n",
              "    </tr>\n",
              "    <tr>\n",
              "      <th>2</th>\n",
              "      <td>JaKarr Sampson</td>\n",
              "      <td>74</td>\n",
              "      <td>15.3</td>\n",
              "      <td>5.2</td>\n",
              "      <td>2.0</td>\n",
              "      <td>4.7</td>\n",
              "      <td>42.2</td>\n",
              "      <td>0.4</td>\n",
              "      <td>1.7</td>\n",
              "      <td>24.4</td>\n",
              "      <td>0.9</td>\n",
              "      <td>1.3</td>\n",
              "      <td>67.0</td>\n",
              "      <td>0.5</td>\n",
              "      <td>1.7</td>\n",
              "      <td>2.2</td>\n",
              "      <td>1.0</td>\n",
              "      <td>0.5</td>\n",
              "      <td>0.3</td>\n",
              "      <td>1.0</td>\n",
              "      <td>0</td>\n",
              "    </tr>\n",
              "    <tr>\n",
              "      <th>3</th>\n",
              "      <td>Malik Sealy</td>\n",
              "      <td>58</td>\n",
              "      <td>11.6</td>\n",
              "      <td>5.7</td>\n",
              "      <td>2.3</td>\n",
              "      <td>5.5</td>\n",
              "      <td>42.6</td>\n",
              "      <td>0.1</td>\n",
              "      <td>0.5</td>\n",
              "      <td>22.6</td>\n",
              "      <td>0.9</td>\n",
              "      <td>1.3</td>\n",
              "      <td>68.9</td>\n",
              "      <td>1.0</td>\n",
              "      <td>0.9</td>\n",
              "      <td>1.9</td>\n",
              "      <td>0.8</td>\n",
              "      <td>0.6</td>\n",
              "      <td>0.1</td>\n",
              "      <td>1.0</td>\n",
              "      <td>1</td>\n",
              "    </tr>\n",
              "    <tr>\n",
              "      <th>4</th>\n",
              "      <td>Matt Geiger</td>\n",
              "      <td>48</td>\n",
              "      <td>11.5</td>\n",
              "      <td>4.5</td>\n",
              "      <td>1.6</td>\n",
              "      <td>3.0</td>\n",
              "      <td>52.4</td>\n",
              "      <td>0.0</td>\n",
              "      <td>0.1</td>\n",
              "      <td>0.0</td>\n",
              "      <td>1.3</td>\n",
              "      <td>1.9</td>\n",
              "      <td>67.4</td>\n",
              "      <td>1.0</td>\n",
              "      <td>1.5</td>\n",
              "      <td>2.5</td>\n",
              "      <td>0.3</td>\n",
              "      <td>0.3</td>\n",
              "      <td>0.4</td>\n",
              "      <td>0.8</td>\n",
              "      <td>1</td>\n",
              "    </tr>\n",
              "  </tbody>\n",
              "</table>\n",
              "</div>"
            ],
            "text/plain": [
              "              Name  GamesPlayed  MinutesPlayed  ...  Blocks  Turnovers  Target\n",
              "0   Brandon Ingram           36           27.4  ...     0.4        1.3       0\n",
              "1  Andrew Harrison           35           26.9  ...     0.5        1.6       0\n",
              "2   JaKarr Sampson           74           15.3  ...     0.3        1.0       0\n",
              "3      Malik Sealy           58           11.6  ...     0.1        1.0       1\n",
              "4      Matt Geiger           48           11.5  ...     0.4        0.8       1\n",
              "\n",
              "[5 rows x 21 columns]"
            ]
          },
          "metadata": {
            "tags": []
          },
          "execution_count": 26
        }
      ]
    },
    {
      "cell_type": "code",
      "metadata": {
        "colab": {
          "base_uri": "https://localhost:8080/",
          "height": 299
        },
        "id": "ZpDCWkxLBOzm",
        "outputId": "1f06457e-cacb-4157-dc84-4c1530076740"
      },
      "source": [
        "df.tail()"
      ],
      "execution_count": null,
      "outputs": [
        {
          "output_type": "execute_result",
          "data": {
            "text/html": [
              "<div>\n",
              "<style scoped>\n",
              "    .dataframe tbody tr th:only-of-type {\n",
              "        vertical-align: middle;\n",
              "    }\n",
              "\n",
              "    .dataframe tbody tr th {\n",
              "        vertical-align: top;\n",
              "    }\n",
              "\n",
              "    .dataframe thead th {\n",
              "        text-align: right;\n",
              "    }\n",
              "</style>\n",
              "<table border=\"1\" class=\"dataframe\">\n",
              "  <thead>\n",
              "    <tr style=\"text-align: right;\">\n",
              "      <th></th>\n",
              "      <th>Name</th>\n",
              "      <th>GamesPlayed</th>\n",
              "      <th>MinutesPlayed</th>\n",
              "      <th>PointsPerGame</th>\n",
              "      <th>FieldGoalsMade</th>\n",
              "      <th>FieldGoalsAttempt</th>\n",
              "      <th>FieldGoalPercent</th>\n",
              "      <th>3PointMade</th>\n",
              "      <th>3PointAttempt</th>\n",
              "      <th>3PointPercent</th>\n",
              "      <th>FreeThrowMade</th>\n",
              "      <th>FreeThrowAttempt</th>\n",
              "      <th>FreeThrowPercent</th>\n",
              "      <th>OffensiveRebounds</th>\n",
              "      <th>DefensiveRebounds</th>\n",
              "      <th>Rebounds</th>\n",
              "      <th>Assists</th>\n",
              "      <th>Steals</th>\n",
              "      <th>Blocks</th>\n",
              "      <th>Turnovers</th>\n",
              "      <th>Target</th>\n",
              "    </tr>\n",
              "  </thead>\n",
              "  <tbody>\n",
              "    <tr>\n",
              "      <th>1335</th>\n",
              "      <td>Chris Smith</td>\n",
              "      <td>80</td>\n",
              "      <td>15.8</td>\n",
              "      <td>4.3</td>\n",
              "      <td>1.6</td>\n",
              "      <td>3.6</td>\n",
              "      <td>43.3</td>\n",
              "      <td>0.0</td>\n",
              "      <td>0.2</td>\n",
              "      <td>14.3</td>\n",
              "      <td>1.2</td>\n",
              "      <td>1.5</td>\n",
              "      <td>79.2</td>\n",
              "      <td>0.4</td>\n",
              "      <td>0.8</td>\n",
              "      <td>1.2</td>\n",
              "      <td>2.5</td>\n",
              "      <td>0.6</td>\n",
              "      <td>0.2</td>\n",
              "      <td>0.8</td>\n",
              "      <td>0</td>\n",
              "    </tr>\n",
              "    <tr>\n",
              "      <th>1336</th>\n",
              "      <td>Brent Price</td>\n",
              "      <td>68</td>\n",
              "      <td>12.6</td>\n",
              "      <td>3.9</td>\n",
              "      <td>1.5</td>\n",
              "      <td>4.1</td>\n",
              "      <td>35.8</td>\n",
              "      <td>0.1</td>\n",
              "      <td>0.7</td>\n",
              "      <td>16.7</td>\n",
              "      <td>0.8</td>\n",
              "      <td>1.0</td>\n",
              "      <td>79.4</td>\n",
              "      <td>0.4</td>\n",
              "      <td>1.1</td>\n",
              "      <td>1.5</td>\n",
              "      <td>2.3</td>\n",
              "      <td>0.8</td>\n",
              "      <td>0.0</td>\n",
              "      <td>1.3</td>\n",
              "      <td>1</td>\n",
              "    </tr>\n",
              "    <tr>\n",
              "      <th>1337</th>\n",
              "      <td>Marlon Maxey</td>\n",
              "      <td>43</td>\n",
              "      <td>12.1</td>\n",
              "      <td>5.4</td>\n",
              "      <td>2.2</td>\n",
              "      <td>3.9</td>\n",
              "      <td>55.0</td>\n",
              "      <td>0.0</td>\n",
              "      <td>0.0</td>\n",
              "      <td>0.0</td>\n",
              "      <td>1.0</td>\n",
              "      <td>1.6</td>\n",
              "      <td>64.3</td>\n",
              "      <td>1.5</td>\n",
              "      <td>2.3</td>\n",
              "      <td>3.8</td>\n",
              "      <td>0.3</td>\n",
              "      <td>0.3</td>\n",
              "      <td>0.4</td>\n",
              "      <td>0.9</td>\n",
              "      <td>0</td>\n",
              "    </tr>\n",
              "    <tr>\n",
              "      <th>1338</th>\n",
              "      <td>Litterial Green</td>\n",
              "      <td>52</td>\n",
              "      <td>12.0</td>\n",
              "      <td>4.5</td>\n",
              "      <td>1.7</td>\n",
              "      <td>3.8</td>\n",
              "      <td>43.9</td>\n",
              "      <td>0.0</td>\n",
              "      <td>0.2</td>\n",
              "      <td>10.0</td>\n",
              "      <td>1.2</td>\n",
              "      <td>1.8</td>\n",
              "      <td>62.5</td>\n",
              "      <td>0.2</td>\n",
              "      <td>0.4</td>\n",
              "      <td>0.7</td>\n",
              "      <td>2.2</td>\n",
              "      <td>0.4</td>\n",
              "      <td>0.1</td>\n",
              "      <td>0.8</td>\n",
              "      <td>1</td>\n",
              "    </tr>\n",
              "    <tr>\n",
              "      <th>1339</th>\n",
              "      <td>Jon Barry</td>\n",
              "      <td>47</td>\n",
              "      <td>11.7</td>\n",
              "      <td>4.4</td>\n",
              "      <td>1.6</td>\n",
              "      <td>4.4</td>\n",
              "      <td>36.9</td>\n",
              "      <td>0.4</td>\n",
              "      <td>1.3</td>\n",
              "      <td>33.3</td>\n",
              "      <td>0.7</td>\n",
              "      <td>1.0</td>\n",
              "      <td>67.3</td>\n",
              "      <td>0.2</td>\n",
              "      <td>0.7</td>\n",
              "      <td>0.9</td>\n",
              "      <td>1.4</td>\n",
              "      <td>0.7</td>\n",
              "      <td>0.1</td>\n",
              "      <td>0.9</td>\n",
              "      <td>1</td>\n",
              "    </tr>\n",
              "  </tbody>\n",
              "</table>\n",
              "</div>"
            ],
            "text/plain": [
              "                 Name  GamesPlayed  MinutesPlayed  ...  Blocks  Turnovers  Target\n",
              "1335      Chris Smith           80           15.8  ...     0.2        0.8       0\n",
              "1336      Brent Price           68           12.6  ...     0.0        1.3       1\n",
              "1337     Marlon Maxey           43           12.1  ...     0.4        0.9       0\n",
              "1338  Litterial Green           52           12.0  ...     0.1        0.8       1\n",
              "1339        Jon Barry           47           11.7  ...     0.1        0.9       1\n",
              "\n",
              "[5 rows x 21 columns]"
            ]
          },
          "metadata": {
            "tags": []
          },
          "execution_count": 27
        }
      ]
    },
    {
      "cell_type": "markdown",
      "metadata": {
        "id": "Aa9RFljwBOzn"
      },
      "source": [
        "#### Уже на данном этапе видно, что в исследуемых данных присутствует строковый столбец имен и вещественные столбцы с характеристиками, пропущенных значений пока не видно\n",
        "#### Также можно сказать, что исследуются данные о спортсменах, в датасете содержатся значения характеристик спортсмена, его номер, количество сыгранных минут, очки за игру и тд\n",
        "#### Задачей данной работы является ускорение или повышение эффективности обучения с учителем при помощи понижения размерности, обнаружения аномалий или кластеризации. \n",
        "#### Будет построена модель классификации. Целевая переменная таргет=0 (игрок имеет карьеру менее 5 лет) или 1( игрок имеет карьеру 5 и более лет)"
      ]
    },
    {
      "cell_type": "markdown",
      "metadata": {
        "id": "DRD1487pBOzn"
      },
      "source": [
        "#### Узнаем размер датасета"
      ]
    },
    {
      "cell_type": "code",
      "metadata": {
        "colab": {
          "base_uri": "https://localhost:8080/"
        },
        "id": "7IV9DUZXBOzo",
        "outputId": "393b044e-317f-4e0e-bd54-cdf8a587c68e"
      },
      "source": [
        "df.shape"
      ],
      "execution_count": null,
      "outputs": [
        {
          "output_type": "execute_result",
          "data": {
            "text/plain": [
              "(1340, 21)"
            ]
          },
          "metadata": {
            "tags": []
          },
          "execution_count": 28
        }
      ]
    },
    {
      "cell_type": "markdown",
      "metadata": {
        "id": "5jL7Oxm5BOzp"
      },
      "source": [
        "#### Итак, в датасете имеется 1340 строк и 21 столбец (признак, атрибут)\n",
        "#### Посмотрим, данные каких типов есть в датасете"
      ]
    },
    {
      "cell_type": "code",
      "metadata": {
        "colab": {
          "base_uri": "https://localhost:8080/",
          "height": 669
        },
        "id": "G7nrR7I1BOzq",
        "outputId": "34c5a54e-0ecb-414e-b115-b880ccaa59a3"
      },
      "source": [
        "dtype_df = df.dtypes.reset_index()\n",
        "dtype_df.columns = [\"Count\", \"Column Type\"]\n",
        "dtype_df"
      ],
      "execution_count": null,
      "outputs": [
        {
          "output_type": "execute_result",
          "data": {
            "text/html": [
              "<div>\n",
              "<style scoped>\n",
              "    .dataframe tbody tr th:only-of-type {\n",
              "        vertical-align: middle;\n",
              "    }\n",
              "\n",
              "    .dataframe tbody tr th {\n",
              "        vertical-align: top;\n",
              "    }\n",
              "\n",
              "    .dataframe thead th {\n",
              "        text-align: right;\n",
              "    }\n",
              "</style>\n",
              "<table border=\"1\" class=\"dataframe\">\n",
              "  <thead>\n",
              "    <tr style=\"text-align: right;\">\n",
              "      <th></th>\n",
              "      <th>Count</th>\n",
              "      <th>Column Type</th>\n",
              "    </tr>\n",
              "  </thead>\n",
              "  <tbody>\n",
              "    <tr>\n",
              "      <th>0</th>\n",
              "      <td>Name</td>\n",
              "      <td>object</td>\n",
              "    </tr>\n",
              "    <tr>\n",
              "      <th>1</th>\n",
              "      <td>GamesPlayed</td>\n",
              "      <td>int64</td>\n",
              "    </tr>\n",
              "    <tr>\n",
              "      <th>2</th>\n",
              "      <td>MinutesPlayed</td>\n",
              "      <td>float64</td>\n",
              "    </tr>\n",
              "    <tr>\n",
              "      <th>3</th>\n",
              "      <td>PointsPerGame</td>\n",
              "      <td>float64</td>\n",
              "    </tr>\n",
              "    <tr>\n",
              "      <th>4</th>\n",
              "      <td>FieldGoalsMade</td>\n",
              "      <td>float64</td>\n",
              "    </tr>\n",
              "    <tr>\n",
              "      <th>5</th>\n",
              "      <td>FieldGoalsAttempt</td>\n",
              "      <td>float64</td>\n",
              "    </tr>\n",
              "    <tr>\n",
              "      <th>6</th>\n",
              "      <td>FieldGoalPercent</td>\n",
              "      <td>float64</td>\n",
              "    </tr>\n",
              "    <tr>\n",
              "      <th>7</th>\n",
              "      <td>3PointMade</td>\n",
              "      <td>float64</td>\n",
              "    </tr>\n",
              "    <tr>\n",
              "      <th>8</th>\n",
              "      <td>3PointAttempt</td>\n",
              "      <td>float64</td>\n",
              "    </tr>\n",
              "    <tr>\n",
              "      <th>9</th>\n",
              "      <td>3PointPercent</td>\n",
              "      <td>float64</td>\n",
              "    </tr>\n",
              "    <tr>\n",
              "      <th>10</th>\n",
              "      <td>FreeThrowMade</td>\n",
              "      <td>float64</td>\n",
              "    </tr>\n",
              "    <tr>\n",
              "      <th>11</th>\n",
              "      <td>FreeThrowAttempt</td>\n",
              "      <td>float64</td>\n",
              "    </tr>\n",
              "    <tr>\n",
              "      <th>12</th>\n",
              "      <td>FreeThrowPercent</td>\n",
              "      <td>float64</td>\n",
              "    </tr>\n",
              "    <tr>\n",
              "      <th>13</th>\n",
              "      <td>OffensiveRebounds</td>\n",
              "      <td>float64</td>\n",
              "    </tr>\n",
              "    <tr>\n",
              "      <th>14</th>\n",
              "      <td>DefensiveRebounds</td>\n",
              "      <td>float64</td>\n",
              "    </tr>\n",
              "    <tr>\n",
              "      <th>15</th>\n",
              "      <td>Rebounds</td>\n",
              "      <td>float64</td>\n",
              "    </tr>\n",
              "    <tr>\n",
              "      <th>16</th>\n",
              "      <td>Assists</td>\n",
              "      <td>float64</td>\n",
              "    </tr>\n",
              "    <tr>\n",
              "      <th>17</th>\n",
              "      <td>Steals</td>\n",
              "      <td>float64</td>\n",
              "    </tr>\n",
              "    <tr>\n",
              "      <th>18</th>\n",
              "      <td>Blocks</td>\n",
              "      <td>float64</td>\n",
              "    </tr>\n",
              "    <tr>\n",
              "      <th>19</th>\n",
              "      <td>Turnovers</td>\n",
              "      <td>float64</td>\n",
              "    </tr>\n",
              "    <tr>\n",
              "      <th>20</th>\n",
              "      <td>Target</td>\n",
              "      <td>int64</td>\n",
              "    </tr>\n",
              "  </tbody>\n",
              "</table>\n",
              "</div>"
            ],
            "text/plain": [
              "                Count Column Type\n",
              "0                Name      object\n",
              "1         GamesPlayed       int64\n",
              "2       MinutesPlayed     float64\n",
              "3       PointsPerGame     float64\n",
              "4      FieldGoalsMade     float64\n",
              "5   FieldGoalsAttempt     float64\n",
              "6    FieldGoalPercent     float64\n",
              "7          3PointMade     float64\n",
              "8       3PointAttempt     float64\n",
              "9       3PointPercent     float64\n",
              "10      FreeThrowMade     float64\n",
              "11   FreeThrowAttempt     float64\n",
              "12   FreeThrowPercent     float64\n",
              "13  OffensiveRebounds     float64\n",
              "14  DefensiveRebounds     float64\n",
              "15           Rebounds     float64\n",
              "16            Assists     float64\n",
              "17             Steals     float64\n",
              "18             Blocks     float64\n",
              "19          Turnovers     float64\n",
              "20             Target       int64"
            ]
          },
          "metadata": {
            "tags": []
          },
          "execution_count": 29
        }
      ]
    },
    {
      "cell_type": "code",
      "metadata": {
        "colab": {
          "base_uri": "https://localhost:8080/",
          "height": 136
        },
        "id": "-cEPHQ5bBOzr",
        "outputId": "15e334bb-d02c-49fd-d892-2587362785c1"
      },
      "source": [
        "dtype_df.groupby(\"Column Type\").aggregate('count').reset_index()"
      ],
      "execution_count": null,
      "outputs": [
        {
          "output_type": "execute_result",
          "data": {
            "text/html": [
              "<div>\n",
              "<style scoped>\n",
              "    .dataframe tbody tr th:only-of-type {\n",
              "        vertical-align: middle;\n",
              "    }\n",
              "\n",
              "    .dataframe tbody tr th {\n",
              "        vertical-align: top;\n",
              "    }\n",
              "\n",
              "    .dataframe thead th {\n",
              "        text-align: right;\n",
              "    }\n",
              "</style>\n",
              "<table border=\"1\" class=\"dataframe\">\n",
              "  <thead>\n",
              "    <tr style=\"text-align: right;\">\n",
              "      <th></th>\n",
              "      <th>Column Type</th>\n",
              "      <th>Count</th>\n",
              "    </tr>\n",
              "  </thead>\n",
              "  <tbody>\n",
              "    <tr>\n",
              "      <th>0</th>\n",
              "      <td>int64</td>\n",
              "      <td>2</td>\n",
              "    </tr>\n",
              "    <tr>\n",
              "      <th>1</th>\n",
              "      <td>float64</td>\n",
              "      <td>18</td>\n",
              "    </tr>\n",
              "    <tr>\n",
              "      <th>2</th>\n",
              "      <td>object</td>\n",
              "      <td>1</td>\n",
              "    </tr>\n",
              "  </tbody>\n",
              "</table>\n",
              "</div>"
            ],
            "text/plain": [
              "  Column Type  Count\n",
              "0       int64      2\n",
              "1     float64     18\n",
              "2      object      1"
            ]
          },
          "metadata": {
            "tags": []
          },
          "execution_count": 30
        }
      ]
    },
    {
      "cell_type": "markdown",
      "metadata": {
        "id": "a8VIgt_BBOzt"
      },
      "source": [
        "#### Как и предполагалось ранее, в датасете есть строковые, вещественные и целочисленные данные\n",
        "#### Теперь узнаем, есть ли пропущенные значения и в каком процентном количестве"
      ]
    },
    {
      "cell_type": "code",
      "metadata": {
        "colab": {
          "base_uri": "https://localhost:8080/"
        },
        "id": "6xu3OpGWBOzu",
        "outputId": "e83d8883-3556-47b1-b463-fc7896194d68"
      },
      "source": [
        "df.isnull().sum()"
      ],
      "execution_count": null,
      "outputs": [
        {
          "output_type": "execute_result",
          "data": {
            "text/plain": [
              "Name                  0\n",
              "GamesPlayed           0\n",
              "MinutesPlayed         0\n",
              "PointsPerGame         0\n",
              "FieldGoalsMade        0\n",
              "FieldGoalsAttempt     0\n",
              "FieldGoalPercent      0\n",
              "3PointMade            0\n",
              "3PointAttempt         0\n",
              "3PointPercent        11\n",
              "FreeThrowMade         0\n",
              "FreeThrowAttempt      0\n",
              "FreeThrowPercent      0\n",
              "OffensiveRebounds     0\n",
              "DefensiveRebounds     0\n",
              "Rebounds              0\n",
              "Assists               0\n",
              "Steals                0\n",
              "Blocks                0\n",
              "Turnovers             0\n",
              "Target                0\n",
              "dtype: int64"
            ]
          },
          "metadata": {
            "tags": []
          },
          "execution_count": 31
        }
      ]
    },
    {
      "cell_type": "markdown",
      "metadata": {
        "id": "j5mK5DOQBOzv"
      },
      "source": [
        "####  В столбце 3PointPercent есть небольшое количество пропущенных значений, удалим строки с ними"
      ]
    },
    {
      "cell_type": "code",
      "metadata": {
        "id": "plXWu_KoBOzw"
      },
      "source": [
        "#df = df.drop(['название столбца'], axis=1)"
      ],
      "execution_count": null,
      "outputs": []
    },
    {
      "cell_type": "code",
      "metadata": {
        "id": "93NOlqrNBOzw"
      },
      "source": [
        "df=df.dropna() "
      ],
      "execution_count": null,
      "outputs": []
    },
    {
      "cell_type": "markdown",
      "metadata": {
        "id": "JxRUFjsTBOzx"
      },
      "source": [
        "#### для другого датасета можно попробовать для числовых заменить пропуски на среднее df=df.fillna(df.mean()), а категориальные на моду df=df.fillna(df.mode()). "
      ]
    },
    {
      "cell_type": "code",
      "metadata": {
        "colab": {
          "base_uri": "https://localhost:8080/"
        },
        "id": "DWcYLemQBOzx",
        "outputId": "62d7dcf9-5d20-4e49-ca21-83bc9434c5f0"
      },
      "source": [
        "df.isnull().sum()"
      ],
      "execution_count": null,
      "outputs": [
        {
          "output_type": "execute_result",
          "data": {
            "text/plain": [
              "Name                 0\n",
              "GamesPlayed          0\n",
              "MinutesPlayed        0\n",
              "PointsPerGame        0\n",
              "FieldGoalsMade       0\n",
              "FieldGoalsAttempt    0\n",
              "FieldGoalPercent     0\n",
              "3PointMade           0\n",
              "3PointAttempt        0\n",
              "3PointPercent        0\n",
              "FreeThrowMade        0\n",
              "FreeThrowAttempt     0\n",
              "FreeThrowPercent     0\n",
              "OffensiveRebounds    0\n",
              "DefensiveRebounds    0\n",
              "Rebounds             0\n",
              "Assists              0\n",
              "Steals               0\n",
              "Blocks               0\n",
              "Turnovers            0\n",
              "Target               0\n",
              "dtype: int64"
            ]
          },
          "metadata": {
            "tags": []
          },
          "execution_count": 34
        }
      ]
    },
    {
      "cell_type": "markdown",
      "metadata": {
        "id": "LXSGVD36BOzy"
      },
      "source": [
        "#### Теперь нет пропусков"
      ]
    },
    {
      "cell_type": "markdown",
      "metadata": {
        "id": "-30ndRumBOzz"
      },
      "source": [
        "#### Узнаем, сколько уникальных значений содержит каждый столбец"
      ]
    },
    {
      "cell_type": "code",
      "metadata": {
        "colab": {
          "base_uri": "https://localhost:8080/"
        },
        "id": "JsJplC3cBOzz",
        "outputId": "6971e017-2b4d-44d5-9d9c-df64d46fd767"
      },
      "source": [
        "df.nunique()"
      ],
      "execution_count": null,
      "outputs": [
        {
          "output_type": "execute_result",
          "data": {
            "text/plain": [
              "Name                 1284\n",
              "GamesPlayed            70\n",
              "MinutesPlayed         325\n",
              "PointsPerGame         191\n",
              "FieldGoalsMade         87\n",
              "FieldGoalsAttempt     159\n",
              "FieldGoalPercent      283\n",
              "3PointMade             23\n",
              "3PointAttempt          54\n",
              "3PointPercent         254\n",
              "FreeThrowMade          59\n",
              "FreeThrowAttempt       76\n",
              "FreeThrowPercent      382\n",
              "OffensiveRebounds      44\n",
              "DefensiveRebounds      74\n",
              "Rebounds              101\n",
              "Assists                77\n",
              "Steals                 26\n",
              "Blocks                 28\n",
              "Turnovers              41\n",
              "Target                  2\n",
              "dtype: int64"
            ]
          },
          "metadata": {
            "tags": []
          },
          "execution_count": 35
        }
      ]
    },
    {
      "cell_type": "markdown",
      "metadata": {
        "id": "7-5kCIl1BOz0"
      },
      "source": [
        "#### Столбец Name содержит слишком много уникальных значений, является строковым, считаем, что он не информативен для дальнейших исследований, поэтому удаляем"
      ]
    },
    {
      "cell_type": "code",
      "metadata": {
        "id": "ggLp3SSnBOz0"
      },
      "source": [
        "df = df.drop(['Name'], axis=1)"
      ],
      "execution_count": null,
      "outputs": []
    },
    {
      "cell_type": "markdown",
      "metadata": {
        "id": "MCRxVpZmBOz0"
      },
      "source": [
        "#### С помощью функции describe выведем и рассмотрим описательные статистики для всех атрибутов"
      ]
    },
    {
      "cell_type": "code",
      "metadata": {
        "colab": {
          "base_uri": "https://localhost:8080/",
          "height": 304
        },
        "id": "DCNVIoRrBOz1",
        "outputId": "c31afdd6-9ee5-4a75-9797-818928bf05da"
      },
      "source": [
        "df.describe()"
      ],
      "execution_count": null,
      "outputs": [
        {
          "output_type": "execute_result",
          "data": {
            "text/html": [
              "<div>\n",
              "<style scoped>\n",
              "    .dataframe tbody tr th:only-of-type {\n",
              "        vertical-align: middle;\n",
              "    }\n",
              "\n",
              "    .dataframe tbody tr th {\n",
              "        vertical-align: top;\n",
              "    }\n",
              "\n",
              "    .dataframe thead th {\n",
              "        text-align: right;\n",
              "    }\n",
              "</style>\n",
              "<table border=\"1\" class=\"dataframe\">\n",
              "  <thead>\n",
              "    <tr style=\"text-align: right;\">\n",
              "      <th></th>\n",
              "      <th>GamesPlayed</th>\n",
              "      <th>MinutesPlayed</th>\n",
              "      <th>PointsPerGame</th>\n",
              "      <th>FieldGoalsMade</th>\n",
              "      <th>FieldGoalsAttempt</th>\n",
              "      <th>FieldGoalPercent</th>\n",
              "      <th>3PointMade</th>\n",
              "      <th>3PointAttempt</th>\n",
              "      <th>3PointPercent</th>\n",
              "      <th>FreeThrowMade</th>\n",
              "      <th>FreeThrowAttempt</th>\n",
              "      <th>FreeThrowPercent</th>\n",
              "      <th>OffensiveRebounds</th>\n",
              "      <th>DefensiveRebounds</th>\n",
              "      <th>Rebounds</th>\n",
              "      <th>Assists</th>\n",
              "      <th>Steals</th>\n",
              "      <th>Blocks</th>\n",
              "      <th>Turnovers</th>\n",
              "      <th>Target</th>\n",
              "    </tr>\n",
              "  </thead>\n",
              "  <tbody>\n",
              "    <tr>\n",
              "      <th>count</th>\n",
              "      <td>1329.000000</td>\n",
              "      <td>1329.000000</td>\n",
              "      <td>1329.000000</td>\n",
              "      <td>1329.000000</td>\n",
              "      <td>1329.000000</td>\n",
              "      <td>1329.000000</td>\n",
              "      <td>1329.000000</td>\n",
              "      <td>1329.000000</td>\n",
              "      <td>1329.000000</td>\n",
              "      <td>1329.000000</td>\n",
              "      <td>1329.000000</td>\n",
              "      <td>1329.000000</td>\n",
              "      <td>1329.000000</td>\n",
              "      <td>1329.000000</td>\n",
              "      <td>1329.000000</td>\n",
              "      <td>1329.000000</td>\n",
              "      <td>1329.000000</td>\n",
              "      <td>1329.000000</td>\n",
              "      <td>1329.000000</td>\n",
              "      <td>1329.000000</td>\n",
              "    </tr>\n",
              "    <tr>\n",
              "      <th>mean</th>\n",
              "      <td>60.402558</td>\n",
              "      <td>17.647931</td>\n",
              "      <td>6.820166</td>\n",
              "      <td>2.634763</td>\n",
              "      <td>5.902483</td>\n",
              "      <td>44.117532</td>\n",
              "      <td>0.249661</td>\n",
              "      <td>0.785628</td>\n",
              "      <td>19.308126</td>\n",
              "      <td>1.302784</td>\n",
              "      <td>1.827314</td>\n",
              "      <td>70.407148</td>\n",
              "      <td>1.007600</td>\n",
              "      <td>2.021445</td>\n",
              "      <td>3.028442</td>\n",
              "      <td>1.558992</td>\n",
              "      <td>0.620391</td>\n",
              "      <td>0.366140</td>\n",
              "      <td>1.196012</td>\n",
              "      <td>0.621520</td>\n",
              "    </tr>\n",
              "    <tr>\n",
              "      <th>std</th>\n",
              "      <td>17.481092</td>\n",
              "      <td>8.327441</td>\n",
              "      <td>4.365671</td>\n",
              "      <td>1.686850</td>\n",
              "      <td>3.598820</td>\n",
              "      <td>6.119492</td>\n",
              "      <td>0.384608</td>\n",
              "      <td>1.063856</td>\n",
              "      <td>16.022916</td>\n",
              "      <td>0.989341</td>\n",
              "      <td>1.326655</td>\n",
              "      <td>10.489838</td>\n",
              "      <td>0.779178</td>\n",
              "      <td>1.362464</td>\n",
              "      <td>2.062357</td>\n",
              "      <td>1.474159</td>\n",
              "      <td>0.410533</td>\n",
              "      <td>0.428534</td>\n",
              "      <td>0.724470</td>\n",
              "      <td>0.485191</td>\n",
              "    </tr>\n",
              "    <tr>\n",
              "      <th>min</th>\n",
              "      <td>11.000000</td>\n",
              "      <td>3.100000</td>\n",
              "      <td>0.700000</td>\n",
              "      <td>0.300000</td>\n",
              "      <td>0.800000</td>\n",
              "      <td>23.800000</td>\n",
              "      <td>0.000000</td>\n",
              "      <td>0.000000</td>\n",
              "      <td>0.000000</td>\n",
              "      <td>0.000000</td>\n",
              "      <td>0.000000</td>\n",
              "      <td>0.000000</td>\n",
              "      <td>0.000000</td>\n",
              "      <td>0.200000</td>\n",
              "      <td>0.300000</td>\n",
              "      <td>0.000000</td>\n",
              "      <td>0.000000</td>\n",
              "      <td>0.000000</td>\n",
              "      <td>0.100000</td>\n",
              "      <td>0.000000</td>\n",
              "    </tr>\n",
              "    <tr>\n",
              "      <th>25%</th>\n",
              "      <td>47.000000</td>\n",
              "      <td>10.800000</td>\n",
              "      <td>3.700000</td>\n",
              "      <td>1.400000</td>\n",
              "      <td>3.300000</td>\n",
              "      <td>40.200000</td>\n",
              "      <td>0.000000</td>\n",
              "      <td>0.000000</td>\n",
              "      <td>0.000000</td>\n",
              "      <td>0.600000</td>\n",
              "      <td>0.900000</td>\n",
              "      <td>64.800000</td>\n",
              "      <td>0.400000</td>\n",
              "      <td>1.000000</td>\n",
              "      <td>1.500000</td>\n",
              "      <td>0.600000</td>\n",
              "      <td>0.300000</td>\n",
              "      <td>0.100000</td>\n",
              "      <td>0.700000</td>\n",
              "      <td>0.000000</td>\n",
              "    </tr>\n",
              "    <tr>\n",
              "      <th>50%</th>\n",
              "      <td>63.000000</td>\n",
              "      <td>16.100000</td>\n",
              "      <td>5.600000</td>\n",
              "      <td>2.100000</td>\n",
              "      <td>4.800000</td>\n",
              "      <td>43.900000</td>\n",
              "      <td>0.100000</td>\n",
              "      <td>0.300000</td>\n",
              "      <td>22.400000</td>\n",
              "      <td>1.000000</td>\n",
              "      <td>1.500000</td>\n",
              "      <td>71.300000</td>\n",
              "      <td>0.800000</td>\n",
              "      <td>1.700000</td>\n",
              "      <td>2.500000</td>\n",
              "      <td>1.100000</td>\n",
              "      <td>0.500000</td>\n",
              "      <td>0.200000</td>\n",
              "      <td>1.000000</td>\n",
              "      <td>1.000000</td>\n",
              "    </tr>\n",
              "    <tr>\n",
              "      <th>75%</th>\n",
              "      <td>77.000000</td>\n",
              "      <td>22.900000</td>\n",
              "      <td>8.800000</td>\n",
              "      <td>3.400000</td>\n",
              "      <td>7.500000</td>\n",
              "      <td>47.800000</td>\n",
              "      <td>0.400000</td>\n",
              "      <td>1.200000</td>\n",
              "      <td>32.500000</td>\n",
              "      <td>1.700000</td>\n",
              "      <td>2.300000</td>\n",
              "      <td>77.600000</td>\n",
              "      <td>1.400000</td>\n",
              "      <td>2.600000</td>\n",
              "      <td>4.000000</td>\n",
              "      <td>2.000000</td>\n",
              "      <td>0.800000</td>\n",
              "      <td>0.500000</td>\n",
              "      <td>1.500000</td>\n",
              "      <td>1.000000</td>\n",
              "    </tr>\n",
              "    <tr>\n",
              "      <th>max</th>\n",
              "      <td>82.000000</td>\n",
              "      <td>40.900000</td>\n",
              "      <td>28.200000</td>\n",
              "      <td>10.200000</td>\n",
              "      <td>19.800000</td>\n",
              "      <td>73.700000</td>\n",
              "      <td>2.300000</td>\n",
              "      <td>6.500000</td>\n",
              "      <td>100.000000</td>\n",
              "      <td>7.700000</td>\n",
              "      <td>10.200000</td>\n",
              "      <td>100.000000</td>\n",
              "      <td>5.300000</td>\n",
              "      <td>9.600000</td>\n",
              "      <td>13.900000</td>\n",
              "      <td>10.600000</td>\n",
              "      <td>2.500000</td>\n",
              "      <td>3.900000</td>\n",
              "      <td>4.400000</td>\n",
              "      <td>1.000000</td>\n",
              "    </tr>\n",
              "  </tbody>\n",
              "</table>\n",
              "</div>"
            ],
            "text/plain": [
              "       GamesPlayed  MinutesPlayed  ...    Turnovers       Target\n",
              "count  1329.000000    1329.000000  ...  1329.000000  1329.000000\n",
              "mean     60.402558      17.647931  ...     1.196012     0.621520\n",
              "std      17.481092       8.327441  ...     0.724470     0.485191\n",
              "min      11.000000       3.100000  ...     0.100000     0.000000\n",
              "25%      47.000000      10.800000  ...     0.700000     0.000000\n",
              "50%      63.000000      16.100000  ...     1.000000     1.000000\n",
              "75%      77.000000      22.900000  ...     1.500000     1.000000\n",
              "max      82.000000      40.900000  ...     4.400000     1.000000\n",
              "\n",
              "[8 rows x 20 columns]"
            ]
          },
          "metadata": {
            "tags": []
          },
          "execution_count": 37
        }
      ]
    },
    {
      "cell_type": "markdown",
      "metadata": {
        "id": "9H6A8mLNBOz1"
      },
      "source": [
        "#### Во многих столбцах (PointsPerGame, FieldGoalsMade, FieldGoalPercent, 3PointMade и др) максимальное значение и значение 75%квартиля очень сильно различаются, это говорит о наличии выбросов. Также в большинстве случаев значение стандартного отклонения далеко от 0, это говорит об отсутствии тенденции точек данных быть близкими к их среднему. Также здесь можно увидеть средние  сыгранные минуты, среднее количество штрафнфх бросков и тд"
      ]
    },
    {
      "cell_type": "code",
      "metadata": {
        "id": "N3UrhsGTBOz1"
      },
      "source": [
        "#df.describe(include='object')"
      ],
      "execution_count": null,
      "outputs": []
    },
    {
      "cell_type": "markdown",
      "metadata": {
        "id": "L038oFqFBOz2"
      },
      "source": [
        "#### "
      ]
    },
    {
      "cell_type": "markdown",
      "metadata": {
        "id": "hhcw2zzRBOz2"
      },
      "source": [
        "#### Переведем категориальные данные в числовые"
      ]
    },
    {
      "cell_type": "code",
      "metadata": {
        "id": "dMnAIlL9BOz2"
      },
      "source": [
        "#from sklearn.preprocessing import LabelEncoder\n",
        "#le= LabelEncoder()\n",
        "\n",
        "#le.fit(df['столбец 1'])\n",
        "#df['столбец 1']=le.transform(df['столбец 1'])\n",
        "\n",
        "#le.fit(df['столбец 2'])\n",
        "#df['столбец 2']=le.transform(df['столбец 2'])"
      ],
      "execution_count": null,
      "outputs": []
    },
    {
      "cell_type": "markdown",
      "metadata": {
        "id": "rVwPTOTjGCY_"
      },
      "source": [
        "Построим гистограмму, найдем выбросы (ящиковая диаграмма), удалим аномальные значения, если они имеются, постараемся привести к нормальному распределению столбцы MinutesPlayed,\tPointsPerGame,\tFieldGoalsMade,\tFieldGoalsAttempt,\tFieldGoalPercent(первые 5 столбцов)"
      ]
    },
    {
      "cell_type": "code",
      "metadata": {
        "colab": {
          "base_uri": "https://localhost:8080/",
          "height": 353
        },
        "id": "hOi2J1oEGtbk",
        "outputId": "149a8894-3167-4ee5-e543-596a5012e017"
      },
      "source": [
        "import seaborn as sns\n",
        "sns.boxplot(df['MinutesPlayed'], palette='rainbow')"
      ],
      "execution_count": null,
      "outputs": [
        {
          "output_type": "stream",
          "text": [
            "/usr/local/lib/python3.6/dist-packages/seaborn/_decorators.py:43: FutureWarning: Pass the following variable as a keyword arg: x. From version 0.12, the only valid positional argument will be `data`, and passing other arguments without an explicit keyword will result in an error or misinterpretation.\n",
            "  FutureWarning\n"
          ],
          "name": "stderr"
        },
        {
          "output_type": "execute_result",
          "data": {
            "text/plain": [
              "<matplotlib.axes._subplots.AxesSubplot at 0x7f7e2343e080>"
            ]
          },
          "metadata": {
            "tags": []
          },
          "execution_count": 40
        },
        {
          "output_type": "display_data",
          "data": {
            "image/png": "[encoded data removed]",
            "text/plain": [
              "<Figure size 432x288 with 1 Axes>"
            ]
          },
          "metadata": {
            "tags": []
          }
        }
      ]
    },
    {
      "cell_type": "code",
      "metadata": {
        "colab": {
          "base_uri": "https://localhost:8080/",
          "height": 353
        },
        "id": "iUqVBLyoG9TD",
        "outputId": "f0dc0894-bec9-49a6-de3f-b504349c94c6"
      },
      "source": [
        "sns.boxplot(df['PointsPerGame'], palette='rainbow')"
      ],
      "execution_count": null,
      "outputs": [
        {
          "output_type": "stream",
          "text": [
            "/usr/local/lib/python3.6/dist-packages/seaborn/_decorators.py:43: FutureWarning: Pass the following variable as a keyword arg: x. From version 0.12, the only valid positional argument will be `data`, and passing other arguments without an explicit keyword will result in an error or misinterpretation.\n",
            "  FutureWarning\n"
          ],
          "name": "stderr"
        },
        {
          "output_type": "execute_result",
          "data": {
            "text/plain": [
              "<matplotlib.axes._subplots.AxesSubplot at 0x7f7e234255c0>"
            ]
          },
          "metadata": {
            "tags": []
          },
          "execution_count": 41
        },
        {
          "output_type": "display_data",
          "data": {
            "image/png": "[encoded data removed]",
            "text/plain": [
              "<Figure size 432x288 with 1 Axes>"
            ]
          },
          "metadata": {
            "tags": []
          }
        }
      ]
    },
    {
      "cell_type": "code",
      "metadata": {
        "colab": {
          "base_uri": "https://localhost:8080/",
          "height": 353
        },
        "id": "56FNE3aPHJF-",
        "outputId": "5e12c14f-7413-4835-d522-f6a96d0a1bdf"
      },
      "source": [
        "sns.boxplot(df['FieldGoalsMade'], palette='rainbow')"
      ],
      "execution_count": null,
      "outputs": [
        {
          "output_type": "stream",
          "text": [
            "/usr/local/lib/python3.6/dist-packages/seaborn/_decorators.py:43: FutureWarning: Pass the following variable as a keyword arg: x. From version 0.12, the only valid positional argument will be `data`, and passing other arguments without an explicit keyword will result in an error or misinterpretation.\n",
            "  FutureWarning\n"
          ],
          "name": "stderr"
        },
        {
          "output_type": "execute_result",
          "data": {
            "text/plain": [
              "<matplotlib.axes._subplots.AxesSubplot at 0x7f7e2338edd8>"
            ]
          },
          "metadata": {
            "tags": []
          },
          "execution_count": 42
        },
        {
          "output_type": "display_data",
          "data": {
            "image/png": "[encoded data removed]",
            "text/plain": [
              "<Figure size 432x288 with 1 Axes>"
            ]
          },
          "metadata": {
            "tags": []
          }
        }
      ]
    },
    {
      "cell_type": "code",
      "metadata": {
        "colab": {
          "base_uri": "https://localhost:8080/",
          "height": 353
        },
        "id": "enjh1KIlHTJs",
        "outputId": "9423ccf2-f19f-4b07-e323-99f1f41f57de"
      },
      "source": [
        "sns.boxplot(df['FieldGoalsAttempt'], palette='rainbow')"
      ],
      "execution_count": null,
      "outputs": [
        {
          "output_type": "stream",
          "text": [
            "/usr/local/lib/python3.6/dist-packages/seaborn/_decorators.py:43: FutureWarning: Pass the following variable as a keyword arg: x. From version 0.12, the only valid positional argument will be `data`, and passing other arguments without an explicit keyword will result in an error or misinterpretation.\n",
            "  FutureWarning\n"
          ],
          "name": "stderr"
        },
        {
          "output_type": "execute_result",
          "data": {
            "text/plain": [
              "<matplotlib.axes._subplots.AxesSubplot at 0x7f7e2336f7f0>"
            ]
          },
          "metadata": {
            "tags": []
          },
          "execution_count": 43
        },
        {
          "output_type": "display_data",
          "data": {
            "image/png": "[encoded data removed]",
            "text/plain": [
              "<Figure size 432x288 with 1 Axes>"
            ]
          },
          "metadata": {
            "tags": []
          }
        }
      ]
    },
    {
      "cell_type": "code",
      "metadata": {
        "colab": {
          "base_uri": "https://localhost:8080/",
          "height": 353
        },
        "id": "N1-AH9zqHdOr",
        "outputId": "bea3ead2-a8aa-45a9-bfb0-a2c2184a65a7"
      },
      "source": [
        "sns.boxplot(df['FieldGoalPercent'], palette='rainbow')"
      ],
      "execution_count": null,
      "outputs": [
        {
          "output_type": "stream",
          "text": [
            "/usr/local/lib/python3.6/dist-packages/seaborn/_decorators.py:43: FutureWarning: Pass the following variable as a keyword arg: x. From version 0.12, the only valid positional argument will be `data`, and passing other arguments without an explicit keyword will result in an error or misinterpretation.\n",
            "  FutureWarning\n"
          ],
          "name": "stderr"
        },
        {
          "output_type": "execute_result",
          "data": {
            "text/plain": [
              "<matplotlib.axes._subplots.AxesSubplot at 0x7f7e232e7438>"
            ]
          },
          "metadata": {
            "tags": []
          },
          "execution_count": 44
        },
        {
          "output_type": "display_data",
          "data": {
            "image/png": "[encoded data removed]",
            "text/plain": [
              "<Figure size 432x288 with 1 Axes>"
            ]
          },
          "metadata": {
            "tags": []
          }
        }
      ]
    },
    {
      "cell_type": "markdown",
      "metadata": {
        "id": "ETZbV7QDHoe_"
      },
      "source": [
        "Ни в одном поле аномалий не обнаружено, конечно, если бы мы имели действительно большие данные(более 100000 строк), аномалии бы вероятнее всего возникли, но здесь ящик с усами показывает, что данный датасет является чистым"
      ]
    },
    {
      "cell_type": "code",
      "metadata": {
        "id": "ERaVWELre18k"
      },
      "source": [
        "#но если были бы то вот: тут смотрим как выглядит график без максимального значения\n",
        "# maxi = max(data['price'])\n",
        "# data_plot = data.loc[data['price'] < maxi]\n",
        "# sns.boxplot(data_plot['price'], palette='rainbow')"
      ],
      "execution_count": null,
      "outputs": []
    },
    {
      "cell_type": "code",
      "metadata": {
        "id": "WC_paEKzfema"
      },
      "source": [
        "# далее применяем метод интерквартильного размаха, грубый перевод из Вики позволяет использовать его для избавления от выбросов:\n",
        "# Межквартильный размах часто используется для поиска выбросов в данных. \n",
        "# Выбросы здесь определяются как наблюдения, которые падают ниже Q1 - 1,5 IQR или выше Q3 + 1,5 IQR. \n",
        "# На диаграмме высшее и наименьшее встречающиеся значения в пределах этого предела обозначены усами прямоугольника (часто с дополнительной полосой в конце усов), \n",
        "# а любые выбросы - отдельными точками.\n",
        "\n",
        "# mid_50 = data['price'].quantile([.25, .75])\n",
        "# price_25, price_75 = mid_50.iloc[0], mid_50.iloc[1]\n",
        "\n",
        "# iqr = price_75 - price_25\n",
        "# low = price_25 - 1.5 * iqr\n",
        "# high = price_75 + 1.5 * iqr\n",
        "\n",
        "# low, iqr, high"
      ],
      "execution_count": null,
      "outputs": []
    },
    {
      "cell_type": "code",
      "metadata": {
        "id": "PlGiRq1ig_xh"
      },
      "source": [
        "# data = data.loc[data['price'] < high]\n",
        "# print('Count: ', data.shape[0], '\\nMin price: ', data['price'].min(), '\\nMax price:', data['price'].max())"
      ],
      "execution_count": null,
      "outputs": []
    },
    {
      "cell_type": "markdown",
      "metadata": {
        "id": "kKEF8p70BOz3"
      },
      "source": [
        "## Выделяем целевую переменную и факторные переменные"
      ]
    },
    {
      "cell_type": "code",
      "metadata": {
        "id": "4_dnc2YGBOz3"
      },
      "source": [
        "X = df.drop(['Target'], axis=1)\n",
        "y = df['Target'] "
      ],
      "execution_count": null,
      "outputs": []
    },
    {
      "cell_type": "markdown",
      "metadata": {
        "id": "wdwf19p8BOz3"
      },
      "source": [
        "####  Для выявления зависимостей между признаками и целевоу переменной выведем матрицу корреляции"
      ]
    },
    {
      "cell_type": "code",
      "metadata": {
        "colab": {
          "base_uri": "https://localhost:8080/",
          "height": 974
        },
        "id": "sdWf3cO4BOz3",
        "outputId": "ee7caf11-ae2a-44f0-c502-5239aae6844e"
      },
      "source": [
        "plt.figure(figsize=(15,15))\n",
        "sns.heatmap(df.corr(), annot=True)"
      ],
      "execution_count": null,
      "outputs": [
        {
          "output_type": "execute_result",
          "data": {
            "text/plain": [
              "<matplotlib.axes._subplots.AxesSubplot at 0x7f7e23245e10>"
            ]
          },
          "metadata": {
            "tags": []
          },
          "execution_count": 46
        },
        {
          "output_type": "display_data",
          "data": {
            "image/png": "[encoded data removed]",
            "text/plain": [
              "<Figure size 1080x1080 with 2 Axes>"
            ]
          },
          "metadata": {
            "tags": []
          }
        }
      ]
    },
    {
      "cell_type": "markdown",
      "metadata": {
        "id": "d53AsWiDBOz4"
      },
      "source": [
        "#### "
      ]
    },
    {
      "cell_type": "markdown",
      "metadata": {
        "id": "sBU-pPfmBOz4"
      },
      "source": [
        "### Построим модель регрессии и попробуем выяснить длину карьеры игрока"
      ]
    },
    {
      "cell_type": "markdown",
      "metadata": {
        "id": "usZb193zBOz4"
      },
      "source": [
        "## Деление выборки на тестовую и обучающую"
      ]
    },
    {
      "cell_type": "code",
      "metadata": {
        "id": "oht484IrBOz4"
      },
      "source": [
        "X_train, X_test, y_train, y_test = train_test_split(X, y, test_size=0.2, random_state=True)"
      ],
      "execution_count": null,
      "outputs": []
    },
    {
      "cell_type": "code",
      "metadata": {
        "colab": {
          "base_uri": "https://localhost:8080/"
        },
        "id": "nrgzpO-1BOz5",
        "outputId": "9cc8f34c-a5ff-44c6-fc3f-b1749b782ec7"
      },
      "source": [
        "LogRegr = LogisticRegression()\n",
        "LogRegr.fit(X_train, y_train)"
      ],
      "execution_count": null,
      "outputs": [
        {
          "output_type": "stream",
          "text": [
            "/usr/local/lib/python3.6/dist-packages/sklearn/linear_model/_logistic.py:940: ConvergenceWarning: lbfgs failed to converge (status=1):\n",
            "STOP: TOTAL NO. of ITERATIONS REACHED LIMIT.\n",
            "\n",
            "Increase the number of iterations (max_iter) or scale the data as shown in:\n",
            "    https://scikit-learn.org/stable/modules/preprocessing.html\n",
            "Please also refer to the documentation for alternative solver options:\n",
            "    https://scikit-learn.org/stable/modules/linear_model.html#logistic-regression\n",
            "  extra_warning_msg=_LOGISTIC_SOLVER_CONVERGENCE_MSG)\n"
          ],
          "name": "stderr"
        },
        {
          "output_type": "execute_result",
          "data": {
            "text/plain": [
              "LogisticRegression(C=1.0, class_weight=None, dual=False, fit_intercept=True,\n",
              "                   intercept_scaling=1, l1_ratio=None, max_iter=100,\n",
              "                   multi_class='auto', n_jobs=None, penalty='l2',\n",
              "                   random_state=None, solver='lbfgs', tol=0.0001, verbose=0,\n",
              "                   warm_start=False)"
            ]
          },
          "metadata": {
            "tags": []
          },
          "execution_count": 48
        }
      ]
    },
    {
      "cell_type": "markdown",
      "metadata": {
        "id": "lYyXTe-jBOz5"
      },
      "source": [
        "#### Для оценки эффективности полученной модели сделаем предсказания по нашему классификатору на тестовой выборке (там, где мы уже знаем правильные ответы, чтобы сравнить, насколько предсказания расходятся с действительностью):"
      ]
    },
    {
      "cell_type": "code",
      "metadata": {
        "id": "ZBx9LD-bBOz5"
      },
      "source": [
        "y_pred = LogRegr.predict(X_test)"
      ],
      "execution_count": null,
      "outputs": []
    },
    {
      "cell_type": "markdown",
      "metadata": {
        "id": "VrYSu56RBOz5"
      },
      "source": [
        "#### Оценим эффективность предсказания тестовой выборки при помощи матрицы классификации:"
      ]
    },
    {
      "cell_type": "code",
      "metadata": {
        "colab": {
          "base_uri": "https://localhost:8080/",
          "height": 299
        },
        "id": "VGSnDZeABOz6",
        "outputId": "c65a062b-5757-4828-b213-1eba43a216ee"
      },
      "source": [
        "class_names = [0, 1]\n",
        "fig, ax = plt.subplots()\n",
        "ticks = np.arange(len(class_names))\n",
        "plt.xticks(ticks, class_names)\n",
        "plt.yticks(ticks, class_names)\n",
        "\n",
        "sns.heatmap(pd.DataFrame(\n",
        "    metrics.confusion_matrix(y_test, y_pred)),\n",
        "    annot=True)\n",
        "plt.ylabel('Действительные значения')\n",
        "plt.xlabel('Предсказанные значения')"
      ],
      "execution_count": null,
      "outputs": [
        {
          "output_type": "execute_result",
          "data": {
            "text/plain": [
              "Text(0.5, 15.0, 'Предсказанные значения')"
            ]
          },
          "metadata": {
            "tags": []
          },
          "execution_count": 50
        },
        {
          "output_type": "display_data",
          "data": {
            "image/png": "[encoded data removed]",
            "text/plain": [
              "<Figure size 432x288 with 2 Axes>"
            ]
          },
          "metadata": {
            "tags": []
          }
        }
      ]
    },
    {
      "cell_type": "markdown",
      "metadata": {
        "id": "HczMD4SfBOz6"
      },
      "source": [
        "## Общее число точных прогнозов около 172, а ложных около 90\n",
        "#### Метрика достоверности предсказания:"
      ]
    },
    {
      "cell_type": "code",
      "metadata": {
        "colab": {
          "base_uri": "https://localhost:8080/"
        },
        "id": "S7ac_LS0BOz6",
        "outputId": "26f9cda7-16a3-4938-c800-8c12478a2cde"
      },
      "source": [
        "metrics.accuracy_score(y_test, y_pred) "
      ],
      "execution_count": null,
      "outputs": [
        {
          "output_type": "execute_result",
          "data": {
            "text/plain": [
              "0.6616541353383458"
            ]
          },
          "metadata": {
            "tags": []
          },
          "execution_count": 51
        }
      ]
    },
    {
      "cell_type": "markdown",
      "metadata": {
        "id": "TQ6khN9RBOz7"
      },
      "source": [
        "#### Метрика точности\n",
        "#### Точность - это соотношение tp / (tp + fp), где tp - количество истинных срабатываний и fp - количество ложных срабатываний. \n",
        "#### Точность - это интуитивно понятная способность классификатора не помечать отрицательный образец как положительный. Лучшее значение - 1, а худшее - 0."
      ]
    },
    {
      "cell_type": "code",
      "metadata": {
        "colab": {
          "base_uri": "https://localhost:8080/"
        },
        "id": "d6up54nEBOz7",
        "outputId": "5ec74df8-35cd-4573-9e78-1933a366bf1e"
      },
      "source": [
        "metrics.precision_score(y_test, y_pred) "
      ],
      "execution_count": null,
      "outputs": [
        {
          "output_type": "execute_result",
          "data": {
            "text/plain": [
              "0.6971428571428572"
            ]
          },
          "metadata": {
            "tags": []
          },
          "execution_count": 52
        }
      ]
    },
    {
      "cell_type": "markdown",
      "metadata": {
        "id": "QJTXHAejBOz7"
      },
      "source": [
        "#### Метрика полноты - это соотношение tp / (tp + fn), где tp - количество истинных положительных результатов и fn - количество ложных отрицательных результатов. \n",
        "#### Метрика полноты - это интуитивно понятная способность классификатора находить все положительные образцы. Лучшее значение - 1, а худшее - 0."
      ]
    },
    {
      "cell_type": "code",
      "metadata": {
        "colab": {
          "base_uri": "https://localhost:8080/"
        },
        "id": "iGHOO3r7BOz8",
        "outputId": "65fe4f21-7898-4837-8ae5-34b786462c48"
      },
      "source": [
        "metrics.recall_score(y_test, y_pred)"
      ],
      "execution_count": null,
      "outputs": [
        {
          "output_type": "execute_result",
          "data": {
            "text/plain": [
              "0.7672955974842768"
            ]
          },
          "metadata": {
            "tags": []
          },
          "execution_count": 53
        }
      ]
    },
    {
      "cell_type": "code",
      "metadata": {
        "colab": {
          "base_uri": "https://localhost:8080/"
        },
        "id": "ftHUptf0BOz8",
        "outputId": "d5ac4399-f565-484d-a7f1-30a80c679685"
      },
      "source": [
        "accuracy1,precision1,recall1=metrics.accuracy_score(y_test, y_pred), metrics.precision_score(y_test, y_pred), metrics.recall_score(y_test, y_pred)\n",
        "accuracy1,precision1,recall1"
      ],
      "execution_count": null,
      "outputs": [
        {
          "output_type": "execute_result",
          "data": {
            "text/plain": [
              "(0.6616541353383458, 0.6971428571428572, 0.7672955974842768)"
            ]
          },
          "metadata": {
            "tags": []
          },
          "execution_count": 54
        }
      ]
    },
    {
      "cell_type": "markdown",
      "metadata": {
        "id": "iTT9kVV-BOz8"
      },
      "source": [
        "### Значения метрик средние, попробуем улучшить модель, используя методы работы без учителя"
      ]
    },
    {
      "cell_type": "markdown",
      "metadata": {
        "id": "JVyvVPvrBOz9"
      },
      "source": [
        "## Метод опорных векторов с гауссовым ядром \n",
        "### Другие методы для классификации"
      ]
    },
    {
      "cell_type": "code",
      "metadata": {
        "colab": {
          "base_uri": "https://localhost:8080/"
        },
        "id": "1aebXROnBOz9",
        "outputId": "0582f62f-75a3-4a16-84a5-0c6e6d1b765b"
      },
      "source": [
        "SVCCLS = SVC(kernel='rbf')\n",
        "SVCCLS.fit(X_train, y_train)"
      ],
      "execution_count": null,
      "outputs": [
        {
          "output_type": "execute_result",
          "data": {
            "text/plain": [
              "SVC(C=1.0, break_ties=False, cache_size=200, class_weight=None, coef0=0.0,\n",
              "    decision_function_shape='ovr', degree=3, gamma='scale', kernel='rbf',\n",
              "    max_iter=-1, probability=False, random_state=None, shrinking=True,\n",
              "    tol=0.001, verbose=False)"
            ]
          },
          "metadata": {
            "tags": []
          },
          "execution_count": 55
        }
      ]
    },
    {
      "cell_type": "code",
      "metadata": {
        "id": "wsWkP0wQBOz-"
      },
      "source": [
        "y_pred = SVCCLS.predict(X_test)"
      ],
      "execution_count": null,
      "outputs": []
    },
    {
      "cell_type": "code",
      "metadata": {
        "colab": {
          "base_uri": "https://localhost:8080/",
          "height": 299
        },
        "id": "MNEzwzRGBOz-",
        "outputId": "64281ec0-6245-457f-a12a-a7591dc0c85e"
      },
      "source": [
        "class_names = [0, 1]\n",
        "fig, ax = plt.subplots()\n",
        "ticks = np.arange(len(class_names))\n",
        "plt.xticks(ticks, class_names)\n",
        "plt.yticks(ticks, class_names)\n",
        "\n",
        "sns.heatmap(pd.DataFrame(\n",
        "    metrics.confusion_matrix(y_test, y_pred)),\n",
        "    annot=True)\n",
        "plt.ylabel('Действительные значения')\n",
        "plt.xlabel('Предсказанные значения')"
      ],
      "execution_count": null,
      "outputs": [
        {
          "output_type": "execute_result",
          "data": {
            "text/plain": [
              "Text(0.5, 15.0, 'Предсказанные значения')"
            ]
          },
          "metadata": {
            "tags": []
          },
          "execution_count": 57
        },
        {
          "output_type": "display_data",
          "data": {
            "image/png": "[encoded data removed]",
            "text/plain": [
              "<Figure size 432x288 with 2 Axes>"
            ]
          },
          "metadata": {
            "tags": []
          }
        }
      ]
    },
    {
      "cell_type": "code",
      "metadata": {
        "colab": {
          "base_uri": "https://localhost:8080/"
        },
        "id": "XbjGRtIPBOz-",
        "outputId": "6d319588-f0ca-4623-e5fa-f9a69f93fb72"
      },
      "source": [
        "metrics.accuracy_score(y_test, y_pred) "
      ],
      "execution_count": null,
      "outputs": [
        {
          "output_type": "execute_result",
          "data": {
            "text/plain": [
              "0.6842105263157895"
            ]
          },
          "metadata": {
            "tags": []
          },
          "execution_count": 58
        }
      ]
    },
    {
      "cell_type": "code",
      "metadata": {
        "colab": {
          "base_uri": "https://localhost:8080/"
        },
        "id": "GdjnpSRcBOz_",
        "outputId": "771a025e-9ae3-4761-839d-250bcf19b3c0"
      },
      "source": [
        "metrics.precision_score(y_test, y_pred) "
      ],
      "execution_count": null,
      "outputs": [
        {
          "output_type": "execute_result",
          "data": {
            "text/plain": [
              "0.7005347593582888"
            ]
          },
          "metadata": {
            "tags": []
          },
          "execution_count": 59
        }
      ]
    },
    {
      "cell_type": "code",
      "metadata": {
        "colab": {
          "base_uri": "https://localhost:8080/"
        },
        "id": "ELd5ysqWBOz_",
        "outputId": "776721a0-c095-410d-9580-0016753f5a8a"
      },
      "source": [
        "metrics.recall_score(y_test, y_pred)"
      ],
      "execution_count": null,
      "outputs": [
        {
          "output_type": "execute_result",
          "data": {
            "text/plain": [
              "0.8238993710691824"
            ]
          },
          "metadata": {
            "tags": []
          },
          "execution_count": 60
        }
      ]
    },
    {
      "cell_type": "markdown",
      "metadata": {
        "id": "q_gWFAy8BOz_"
      },
      "source": [
        "## Метод k ближайших соседей\n",
        "### еще метод"
      ]
    },
    {
      "cell_type": "code",
      "metadata": {
        "colab": {
          "base_uri": "https://localhost:8080/"
        },
        "id": "_uNQv4xSBO0A",
        "outputId": "2233cab2-7c29-4f66-e36f-ade7f76e2c7d"
      },
      "source": [
        "from sklearn.neighbors import KNeighborsClassifier\n",
        "KNeighborsCLS = KNeighborsClassifier()\n",
        "KNeighborsCLS.fit(X_train, y_train)"
      ],
      "execution_count": null,
      "outputs": [
        {
          "output_type": "execute_result",
          "data": {
            "text/plain": [
              "KNeighborsClassifier(algorithm='auto', leaf_size=30, metric='minkowski',\n",
              "                     metric_params=None, n_jobs=None, n_neighbors=5, p=2,\n",
              "                     weights='uniform')"
            ]
          },
          "metadata": {
            "tags": []
          },
          "execution_count": 61
        }
      ]
    },
    {
      "cell_type": "code",
      "metadata": {
        "colab": {
          "base_uri": "https://localhost:8080/"
        },
        "id": "juFxT5auBO0A",
        "outputId": "59b27e15-ad10-460c-fb7f-fe9b66caccab"
      },
      "source": [
        "y_pred = KNeighborsCLS.predict(X_test)\n",
        "class_names = [0, 1]\n",
        "fig, ax = plt.subplots()\n",
        "ticks = np.arange(len(class_names))\n",
        "plt.xticks(ticks, class_names)\n",
        "plt.yticks(ticks, class_names)\n",
        "\n",
        "sns.heatmap(pd.DataFrame(\n",
        "    metrics.confusion_matrix(y_test, y_pred)),\n",
        "    annot=True)\n",
        "plt.ylabel('Действительные значения')\n",
        "plt.xlabel('Предсказанные значения')"
      ],
      "execution_count": null,
      "outputs": [
        {
          "output_type": "execute_result",
          "data": {
            "text/plain": [
              "Text(0.5, 15.0, 'Предсказанные значения')"
            ]
          },
          "metadata": {
            "tags": []
          },
          "execution_count": 62
        },
        {
          "output_type": "display_data",
          "data": {
            "image/png": "[encoded data removed]",
            "text/plain": [
              "<Figure size 432x288 with 2 Axes>"
            ]
          },
          "metadata": {
            "tags": []
          }
        }
      ]
    },
    {
      "cell_type": "code",
      "metadata": {
        "colab": {
          "base_uri": "https://localhost:8080/"
        },
        "id": "XOeFQDq5BO0A",
        "outputId": "67fe3805-0d74-4dc8-81d8-2ddd1e5a8fe5"
      },
      "source": [
        "metrics.accuracy_score(y_test, y_pred) "
      ],
      "execution_count": null,
      "outputs": [
        {
          "output_type": "execute_result",
          "data": {
            "text/plain": [
              "0.650375939849624"
            ]
          },
          "metadata": {
            "tags": []
          },
          "execution_count": 63
        }
      ]
    },
    {
      "cell_type": "code",
      "metadata": {
        "colab": {
          "base_uri": "https://localhost:8080/"
        },
        "id": "jj78wfsDBO0B",
        "outputId": "02e295bd-3891-41d2-bd86-b0248e225e9c"
      },
      "source": [
        "metrics.precision_score(y_test, y_pred) "
      ],
      "execution_count": null,
      "outputs": [
        {
          "output_type": "execute_result",
          "data": {
            "text/plain": [
              "0.6918604651162791"
            ]
          },
          "metadata": {
            "tags": []
          },
          "execution_count": 64
        }
      ]
    },
    {
      "cell_type": "code",
      "metadata": {
        "colab": {
          "base_uri": "https://localhost:8080/"
        },
        "id": "A0LwAPqpBO0C",
        "outputId": "7be1de00-301d-4d54-ccd1-1d5ba2c96f70"
      },
      "source": [
        "metrics.recall_score(y_test, y_pred)"
      ],
      "execution_count": null,
      "outputs": [
        {
          "output_type": "execute_result",
          "data": {
            "text/plain": [
              "0.7484276729559748"
            ]
          },
          "metadata": {
            "tags": []
          },
          "execution_count": 65
        }
      ]
    },
    {
      "cell_type": "markdown",
      "metadata": {
        "id": "PBBJVDawBO0C"
      },
      "source": [
        "## Метод опорных векторов с линейным ядром \n",
        "### еще метод"
      ]
    },
    {
      "cell_type": "code",
      "metadata": {
        "colab": {
          "base_uri": "https://localhost:8080/"
        },
        "id": "Kk816ul1BO0C",
        "outputId": "8be51562-da02-4fb8-c517-9061195b3ab2"
      },
      "source": [
        "from sklearn.svm import SVC\n",
        "LinearSVCCLS = SVC(kernel='linear')\n",
        "LinearSVCCLS.fit(X_train, y_train)"
      ],
      "execution_count": null,
      "outputs": [
        {
          "output_type": "execute_result",
          "data": {
            "text/plain": [
              "SVC(C=1.0, break_ties=False, cache_size=200, class_weight=None, coef0=0.0,\n",
              "    decision_function_shape='ovr', degree=3, gamma='scale', kernel='linear',\n",
              "    max_iter=-1, probability=False, random_state=None, shrinking=True,\n",
              "    tol=0.001, verbose=False)"
            ]
          },
          "metadata": {
            "tags": []
          },
          "execution_count": 66
        }
      ]
    },
    {
      "cell_type": "code",
      "metadata": {
        "id": "2uUGyzn0BO0D"
      },
      "source": [
        "y_pred = LinearSVCCLS.predict(X_test)"
      ],
      "execution_count": null,
      "outputs": []
    },
    {
      "cell_type": "code",
      "metadata": {
        "colab": {
          "base_uri": "https://localhost:8080/",
          "height": 299
        },
        "id": "LLCfFYHrBO0D",
        "outputId": "8f879f65-10c4-47d5-e051-dca64c0348c5"
      },
      "source": [
        "class_names = [0, 1]\n",
        "fig, ax = plt.subplots()\n",
        "ticks = np.arange(len(class_names))\n",
        "plt.xticks(ticks, class_names)\n",
        "plt.yticks(ticks, class_names)\n",
        "\n",
        "sns.heatmap(pd.DataFrame(\n",
        "    metrics.confusion_matrix(y_test, y_pred)),\n",
        "    annot=True)\n",
        "plt.ylabel('Действительные значения')\n",
        "plt.xlabel('Предсказанные значения')"
      ],
      "execution_count": null,
      "outputs": [
        {
          "output_type": "execute_result",
          "data": {
            "text/plain": [
              "Text(0.5, 15.0, 'Предсказанные значения')"
            ]
          },
          "metadata": {
            "tags": []
          },
          "execution_count": 68
        },
        {
          "output_type": "display_data",
          "data": {
            "image/png": "[encoded data removed]",
            "text/plain": [
              "<Figure size 432x288 with 2 Axes>"
            ]
          },
          "metadata": {
            "tags": []
          }
        }
      ]
    },
    {
      "cell_type": "code",
      "metadata": {
        "colab": {
          "base_uri": "https://localhost:8080/"
        },
        "id": "7qAVCunQBO0D",
        "outputId": "b1a763be-0ad0-4672-b581-2eff0aef7728"
      },
      "source": [
        "metrics.accuracy_score(y_test, y_pred) \n",
        "#metrics.precision_score(y_test, y_pred) \n",
        "#metrics.recall_score(y_test, y_pred)"
      ],
      "execution_count": null,
      "outputs": [
        {
          "output_type": "execute_result",
          "data": {
            "text/plain": [
              "0.6766917293233082"
            ]
          },
          "metadata": {
            "tags": []
          },
          "execution_count": 69
        }
      ]
    },
    {
      "cell_type": "code",
      "metadata": {
        "colab": {
          "base_uri": "https://localhost:8080/"
        },
        "id": "GB7fH4jfBO0E",
        "outputId": "b0dc536e-0a78-44f6-8a2b-7bf07ecaac08"
      },
      "source": [
        "metrics.precision_score(y_test, y_pred) "
      ],
      "execution_count": null,
      "outputs": [
        {
          "output_type": "execute_result",
          "data": {
            "text/plain": [
              "0.7016574585635359"
            ]
          },
          "metadata": {
            "tags": []
          },
          "execution_count": 70
        }
      ]
    },
    {
      "cell_type": "code",
      "metadata": {
        "colab": {
          "base_uri": "https://localhost:8080/"
        },
        "id": "EWZ5k03VBO0E",
        "outputId": "30eb3ef7-fd83-43c8-9ccd-58e661cab48a"
      },
      "source": [
        "metrics.recall_score(y_test, y_pred)"
      ],
      "execution_count": null,
      "outputs": [
        {
          "output_type": "execute_result",
          "data": {
            "text/plain": [
              "0.7987421383647799"
            ]
          },
          "metadata": {
            "tags": []
          },
          "execution_count": 71
        }
      ]
    },
    {
      "cell_type": "markdown",
      "metadata": {
        "id": "WoCfuBuGBO0F"
      },
      "source": [
        "### Еще метод Многослойный классификатор персептрона."
      ]
    },
    {
      "cell_type": "code",
      "metadata": {
        "colab": {
          "base_uri": "https://localhost:8080/"
        },
        "id": "-AUd_JK3BO0F",
        "outputId": "070c1fdb-0458-4363-bf46-e0be7f09d4f7"
      },
      "source": [
        "from sklearn.neural_network import MLPClassifier\n",
        "MLPCLS = MLPClassifier()\n",
        "MLPCLS.fit(X_train, y_train)"
      ],
      "execution_count": null,
      "outputs": [
        {
          "output_type": "execute_result",
          "data": {
            "text/plain": [
              "MLPClassifier(activation='relu', alpha=0.0001, batch_size='auto', beta_1=0.9,\n",
              "              beta_2=0.999, early_stopping=False, epsilon=1e-08,\n",
              "              hidden_layer_sizes=(100,), learning_rate='constant',\n",
              "              learning_rate_init=0.001, max_fun=15000, max_iter=200,\n",
              "              momentum=0.9, n_iter_no_change=10, nesterovs_momentum=True,\n",
              "              power_t=0.5, random_state=None, shuffle=True, solver='adam',\n",
              "              tol=0.0001, validation_fraction=0.1, verbose=False,\n",
              "              warm_start=False)"
            ]
          },
          "metadata": {
            "tags": []
          },
          "execution_count": 72
        }
      ]
    },
    {
      "cell_type": "code",
      "metadata": {
        "id": "UdtsoxRFBO0F"
      },
      "source": [
        "y_pred = MLPCLS.predict(X_test)"
      ],
      "execution_count": null,
      "outputs": []
    },
    {
      "cell_type": "code",
      "metadata": {
        "colab": {
          "base_uri": "https://localhost:8080/",
          "height": 299
        },
        "id": "U7jcsDcrBO0F",
        "outputId": "7305e945-c959-4dc1-fb8d-b070f9df33e5"
      },
      "source": [
        "class_names = [0, 1]\n",
        "fig, ax = plt.subplots()\n",
        "ticks = np.arange(len(class_names))\n",
        "plt.xticks(ticks, class_names)\n",
        "plt.yticks(ticks, class_names)\n",
        "\n",
        "sns.heatmap(pd.DataFrame(\n",
        "    metrics.confusion_matrix(y_test, y_pred)),\n",
        "    annot=True)\n",
        "plt.ylabel('Действительные значения')\n",
        "plt.xlabel('Предсказанные значения')"
      ],
      "execution_count": null,
      "outputs": [
        {
          "output_type": "execute_result",
          "data": {
            "text/plain": [
              "Text(0.5, 15.0, 'Предсказанные значения')"
            ]
          },
          "metadata": {
            "tags": []
          },
          "execution_count": 74
        },
        {
          "output_type": "display_data",
          "data": {
            "image/png": "[encoded data removed]",
            "text/plain": [
              "<Figure size 432x288 with 2 Axes>"
            ]
          },
          "metadata": {
            "tags": []
          }
        }
      ]
    },
    {
      "cell_type": "code",
      "metadata": {
        "colab": {
          "base_uri": "https://localhost:8080/"
        },
        "id": "2p2XpowzBO0G",
        "outputId": "06668f53-883f-466f-edfe-220af75b0e72"
      },
      "source": [
        "metrics.accuracy_score(y_test, y_pred) \n",
        "#metrics.precision_score(y_test, y_pred) \n",
        "#metrics.recall_score(y_test, y_pred)"
      ],
      "execution_count": null,
      "outputs": [
        {
          "output_type": "execute_result",
          "data": {
            "text/plain": [
              "0.6353383458646616"
            ]
          },
          "metadata": {
            "tags": []
          },
          "execution_count": 75
        }
      ]
    },
    {
      "cell_type": "code",
      "metadata": {
        "colab": {
          "base_uri": "https://localhost:8080/"
        },
        "id": "B3WYUqE0BO0G",
        "outputId": "3afeb6b2-cd94-4d11-e6c9-866af11d43cb"
      },
      "source": [
        "metrics.precision_score(y_test, y_pred)"
      ],
      "execution_count": null,
      "outputs": [
        {
          "output_type": "execute_result",
          "data": {
            "text/plain": [
              "0.7348484848484849"
            ]
          },
          "metadata": {
            "tags": []
          },
          "execution_count": 76
        }
      ]
    },
    {
      "cell_type": "code",
      "metadata": {
        "colab": {
          "base_uri": "https://localhost:8080/"
        },
        "id": "GFF6ft76BO0G",
        "outputId": "d09630a1-da98-4f45-b8a3-126b46913fda"
      },
      "source": [
        "metrics.recall_score(y_test, y_pred)"
      ],
      "execution_count": null,
      "outputs": [
        {
          "output_type": "execute_result",
          "data": {
            "text/plain": [
              "0.610062893081761"
            ]
          },
          "metadata": {
            "tags": []
          },
          "execution_count": 77
        }
      ]
    },
    {
      "cell_type": "code",
      "metadata": {
        "colab": {
          "base_uri": "https://localhost:8080/"
        },
        "id": "Op9ESvPZBO0H",
        "outputId": "7cdec2c5-fe80-4eff-a6c1-358182fd8eef"
      },
      "source": [
        "metrics.accuracy_score(y_test, y_pred), metrics.precision_score(y_test, y_pred), metrics.recall_score(y_test, y_pred)"
      ],
      "execution_count": null,
      "outputs": [
        {
          "output_type": "execute_result",
          "data": {
            "text/plain": [
              "(0.6353383458646616, 0.7348484848484849, 0.610062893081761)"
            ]
          },
          "metadata": {
            "tags": []
          },
          "execution_count": 78
        }
      ]
    },
    {
      "cell_type": "markdown",
      "metadata": {
        "id": "J8Bd1MgNBO0H"
      },
      "source": [
        "## Рандом форест"
      ]
    },
    {
      "cell_type": "code",
      "metadata": {
        "colab": {
          "base_uri": "https://localhost:8080/"
        },
        "id": "fdB1576iBO0H",
        "outputId": "2f645bbc-eecf-4374-e477-d9e496f95987"
      },
      "source": [
        "from sklearn.ensemble import RandomForestClassifier\n",
        "ForestCLS= RandomForestClassifier()\n",
        "ForestCLS.fit(X_train, y_train)"
      ],
      "execution_count": null,
      "outputs": [
        {
          "output_type": "execute_result",
          "data": {
            "text/plain": [
              "RandomForestClassifier(bootstrap=True, ccp_alpha=0.0, class_weight=None,\n",
              "                       criterion='gini', max_depth=None, max_features='auto',\n",
              "                       max_leaf_nodes=None, max_samples=None,\n",
              "                       min_impurity_decrease=0.0, min_impurity_split=None,\n",
              "                       min_samples_leaf=1, min_samples_split=2,\n",
              "                       min_weight_fraction_leaf=0.0, n_estimators=100,\n",
              "                       n_jobs=None, oob_score=False, random_state=None,\n",
              "                       verbose=0, warm_start=False)"
            ]
          },
          "metadata": {
            "tags": []
          },
          "execution_count": 79
        }
      ]
    },
    {
      "cell_type": "code",
      "metadata": {
        "id": "t-6SdJ3_BO0I"
      },
      "source": [
        "y_pred = ForestCLS.predict(X_test)"
      ],
      "execution_count": null,
      "outputs": []
    },
    {
      "cell_type": "code",
      "metadata": {
        "colab": {
          "base_uri": "https://localhost:8080/",
          "height": 299
        },
        "id": "DQF8chCyBO0I",
        "outputId": "09c8ae35-5b3e-4e32-8ec0-b9175208a4ff"
      },
      "source": [
        "class_names = [0, 1]\n",
        "fig, ax = plt.subplots()\n",
        "ticks = np.arange(len(class_names))\n",
        "plt.xticks(ticks, class_names)\n",
        "plt.yticks(ticks, class_names)\n",
        "\n",
        "sns.heatmap(pd.DataFrame(\n",
        "    metrics.confusion_matrix(y_test, y_pred)),\n",
        "    annot=True)\n",
        "plt.ylabel('Действительные значения')\n",
        "plt.xlabel('Предсказанные значения')"
      ],
      "execution_count": null,
      "outputs": [
        {
          "output_type": "execute_result",
          "data": {
            "text/plain": [
              "Text(0.5, 15.0, 'Предсказанные значения')"
            ]
          },
          "metadata": {
            "tags": []
          },
          "execution_count": 81
        },
        {
          "output_type": "display_data",
          "data": {
            "image/png": "[encoded data removed]",
            "text/plain": [
              "<Figure size 432x288 with 2 Axes>"
            ]
          },
          "metadata": {
            "tags": []
          }
        }
      ]
    },
    {
      "cell_type": "code",
      "metadata": {
        "colab": {
          "base_uri": "https://localhost:8080/"
        },
        "id": "LTP90iQCBO0J",
        "outputId": "ca78a81f-369e-48b0-c563-ff948375ced5"
      },
      "source": [
        "metrics.accuracy_score(y_test, y_pred) "
      ],
      "execution_count": null,
      "outputs": [
        {
          "output_type": "execute_result",
          "data": {
            "text/plain": [
              "0.6616541353383458"
            ]
          },
          "metadata": {
            "tags": []
          },
          "execution_count": 82
        }
      ]
    },
    {
      "cell_type": "code",
      "metadata": {
        "colab": {
          "base_uri": "https://localhost:8080/"
        },
        "id": "fmrivDCEBO0J",
        "outputId": "dc60ce0b-c39f-4ef4-bf44-0d3ba2f147b5"
      },
      "source": [
        "metrics.precision_score(y_test, y_pred)"
      ],
      "execution_count": null,
      "outputs": [
        {
          "output_type": "execute_result",
          "data": {
            "text/plain": [
              "0.6949152542372882"
            ]
          },
          "metadata": {
            "tags": []
          },
          "execution_count": 83
        }
      ]
    },
    {
      "cell_type": "code",
      "metadata": {
        "colab": {
          "base_uri": "https://localhost:8080/"
        },
        "id": "SkhKLD0UBO0J",
        "outputId": "2f01cd40-0367-4116-ea1a-debfccc05b85"
      },
      "source": [
        "metrics.recall_score(y_test, y_pred)"
      ],
      "execution_count": null,
      "outputs": [
        {
          "output_type": "execute_result",
          "data": {
            "text/plain": [
              "0.7735849056603774"
            ]
          },
          "metadata": {
            "tags": []
          },
          "execution_count": 84
        }
      ]
    },
    {
      "cell_type": "markdown",
      "metadata": {
        "id": "yWCl3xrbBO0K"
      },
      "source": [
        "### DecisionTreeClassifier"
      ]
    },
    {
      "cell_type": "code",
      "metadata": {
        "colab": {
          "base_uri": "https://localhost:8080/"
        },
        "id": "ijUD0S3OBO0K",
        "outputId": "383cd8fe-2a2c-4da4-9b10-12490c84feee"
      },
      "source": [
        "from sklearn.tree import DecisionTreeClassifier\n",
        "TreeCLS= RandomForestClassifier()\n",
        "TreeCLS.fit(X_train, y_train)"
      ],
      "execution_count": null,
      "outputs": [
        {
          "output_type": "execute_result",
          "data": {
            "text/plain": [
              "RandomForestClassifier(bootstrap=True, ccp_alpha=0.0, class_weight=None,\n",
              "                       criterion='gini', max_depth=None, max_features='auto',\n",
              "                       max_leaf_nodes=None, max_samples=None,\n",
              "                       min_impurity_decrease=0.0, min_impurity_split=None,\n",
              "                       min_samples_leaf=1, min_samples_split=2,\n",
              "                       min_weight_fraction_leaf=0.0, n_estimators=100,\n",
              "                       n_jobs=None, oob_score=False, random_state=None,\n",
              "                       verbose=0, warm_start=False)"
            ]
          },
          "metadata": {
            "tags": []
          },
          "execution_count": 85
        }
      ]
    },
    {
      "cell_type": "code",
      "metadata": {
        "id": "OzddXPL_BO0K"
      },
      "source": [
        "y_pred = TreeCLS.predict(X_test)"
      ],
      "execution_count": null,
      "outputs": []
    },
    {
      "cell_type": "code",
      "metadata": {
        "colab": {
          "base_uri": "https://localhost:8080/"
        },
        "id": "OMomtwbvBO0K",
        "outputId": "39868cc3-3dec-4d9f-9b2b-61cde756b561"
      },
      "source": [
        "metrics.accuracy_score(y_test, y_pred), metrics.precision_score(y_test, y_pred), metrics.recall_score(y_test, y_pred)"
      ],
      "execution_count": null,
      "outputs": [
        {
          "output_type": "execute_result",
          "data": {
            "text/plain": [
              "(0.6466165413533834, 0.6836158192090396, 0.7610062893081762)"
            ]
          },
          "metadata": {
            "tags": []
          },
          "execution_count": 87
        }
      ]
    },
    {
      "cell_type": "markdown",
      "metadata": {
        "id": "jP4ZFArPBO0L"
      },
      "source": [
        "### Кластеризация Метод Kmeans"
      ]
    },
    {
      "cell_type": "code",
      "metadata": {
        "id": "VCXz22miBO0L"
      },
      "source": [
        "dfKlaster=df.copy()"
      ],
      "execution_count": null,
      "outputs": []
    },
    {
      "cell_type": "code",
      "metadata": {
        "id": "flI1drimBO0L"
      },
      "source": [
        "from sklearn.cluster import KMeans\n",
        "kmeans = KMeans(n_clusters = 2)\n",
        "y_pred = kmeans.fit_predict(X)"
      ],
      "execution_count": null,
      "outputs": []
    },
    {
      "cell_type": "code",
      "metadata": {
        "id": "evwuvb-_BO0L"
      },
      "source": [
        "dfKlaster['Target']=y_pred"
      ],
      "execution_count": null,
      "outputs": []
    },
    {
      "cell_type": "code",
      "metadata": {
        "colab": {
          "base_uri": "https://localhost:8080/",
          "height": 215
        },
        "id": "882kHvvdBO0M",
        "outputId": "ae41664d-3e4f-47e4-ef96-7fcda9d637a0"
      },
      "source": [
        "dfKlaster.head()"
      ],
      "execution_count": null,
      "outputs": [
        {
          "output_type": "execute_result",
          "data": {
            "text/html": [
              "<div>\n",
              "<style scoped>\n",
              "    .dataframe tbody tr th:only-of-type {\n",
              "        vertical-align: middle;\n",
              "    }\n",
              "\n",
              "    .dataframe tbody tr th {\n",
              "        vertical-align: top;\n",
              "    }\n",
              "\n",
              "    .dataframe thead th {\n",
              "        text-align: right;\n",
              "    }\n",
              "</style>\n",
              "<table border=\"1\" class=\"dataframe\">\n",
              "  <thead>\n",
              "    <tr style=\"text-align: right;\">\n",
              "      <th></th>\n",
              "      <th>GamesPlayed</th>\n",
              "      <th>MinutesPlayed</th>\n",
              "      <th>PointsPerGame</th>\n",
              "      <th>FieldGoalsMade</th>\n",
              "      <th>FieldGoalsAttempt</th>\n",
              "      <th>FieldGoalPercent</th>\n",
              "      <th>3PointMade</th>\n",
              "      <th>3PointAttempt</th>\n",
              "      <th>3PointPercent</th>\n",
              "      <th>FreeThrowMade</th>\n",
              "      <th>FreeThrowAttempt</th>\n",
              "      <th>FreeThrowPercent</th>\n",
              "      <th>OffensiveRebounds</th>\n",
              "      <th>DefensiveRebounds</th>\n",
              "      <th>Rebounds</th>\n",
              "      <th>Assists</th>\n",
              "      <th>Steals</th>\n",
              "      <th>Blocks</th>\n",
              "      <th>Turnovers</th>\n",
              "      <th>Target</th>\n",
              "    </tr>\n",
              "  </thead>\n",
              "  <tbody>\n",
              "    <tr>\n",
              "      <th>0</th>\n",
              "      <td>36</td>\n",
              "      <td>27.4</td>\n",
              "      <td>7.4</td>\n",
              "      <td>2.6</td>\n",
              "      <td>7.6</td>\n",
              "      <td>34.7</td>\n",
              "      <td>0.5</td>\n",
              "      <td>2.1</td>\n",
              "      <td>25.0</td>\n",
              "      <td>1.6</td>\n",
              "      <td>2.3</td>\n",
              "      <td>69.9</td>\n",
              "      <td>0.7</td>\n",
              "      <td>3.4</td>\n",
              "      <td>4.1</td>\n",
              "      <td>1.9</td>\n",
              "      <td>0.4</td>\n",
              "      <td>0.4</td>\n",
              "      <td>1.3</td>\n",
              "      <td>1</td>\n",
              "    </tr>\n",
              "    <tr>\n",
              "      <th>1</th>\n",
              "      <td>35</td>\n",
              "      <td>26.9</td>\n",
              "      <td>7.2</td>\n",
              "      <td>2.0</td>\n",
              "      <td>6.7</td>\n",
              "      <td>29.6</td>\n",
              "      <td>0.7</td>\n",
              "      <td>2.8</td>\n",
              "      <td>23.5</td>\n",
              "      <td>2.6</td>\n",
              "      <td>3.4</td>\n",
              "      <td>76.5</td>\n",
              "      <td>0.5</td>\n",
              "      <td>2.0</td>\n",
              "      <td>2.4</td>\n",
              "      <td>3.7</td>\n",
              "      <td>1.1</td>\n",
              "      <td>0.5</td>\n",
              "      <td>1.6</td>\n",
              "      <td>1</td>\n",
              "    </tr>\n",
              "    <tr>\n",
              "      <th>2</th>\n",
              "      <td>74</td>\n",
              "      <td>15.3</td>\n",
              "      <td>5.2</td>\n",
              "      <td>2.0</td>\n",
              "      <td>4.7</td>\n",
              "      <td>42.2</td>\n",
              "      <td>0.4</td>\n",
              "      <td>1.7</td>\n",
              "      <td>24.4</td>\n",
              "      <td>0.9</td>\n",
              "      <td>1.3</td>\n",
              "      <td>67.0</td>\n",
              "      <td>0.5</td>\n",
              "      <td>1.7</td>\n",
              "      <td>2.2</td>\n",
              "      <td>1.0</td>\n",
              "      <td>0.5</td>\n",
              "      <td>0.3</td>\n",
              "      <td>1.0</td>\n",
              "      <td>0</td>\n",
              "    </tr>\n",
              "    <tr>\n",
              "      <th>3</th>\n",
              "      <td>58</td>\n",
              "      <td>11.6</td>\n",
              "      <td>5.7</td>\n",
              "      <td>2.3</td>\n",
              "      <td>5.5</td>\n",
              "      <td>42.6</td>\n",
              "      <td>0.1</td>\n",
              "      <td>0.5</td>\n",
              "      <td>22.6</td>\n",
              "      <td>0.9</td>\n",
              "      <td>1.3</td>\n",
              "      <td>68.9</td>\n",
              "      <td>1.0</td>\n",
              "      <td>0.9</td>\n",
              "      <td>1.9</td>\n",
              "      <td>0.8</td>\n",
              "      <td>0.6</td>\n",
              "      <td>0.1</td>\n",
              "      <td>1.0</td>\n",
              "      <td>1</td>\n",
              "    </tr>\n",
              "    <tr>\n",
              "      <th>4</th>\n",
              "      <td>48</td>\n",
              "      <td>11.5</td>\n",
              "      <td>4.5</td>\n",
              "      <td>1.6</td>\n",
              "      <td>3.0</td>\n",
              "      <td>52.4</td>\n",
              "      <td>0.0</td>\n",
              "      <td>0.1</td>\n",
              "      <td>0.0</td>\n",
              "      <td>1.3</td>\n",
              "      <td>1.9</td>\n",
              "      <td>67.4</td>\n",
              "      <td>1.0</td>\n",
              "      <td>1.5</td>\n",
              "      <td>2.5</td>\n",
              "      <td>0.3</td>\n",
              "      <td>0.3</td>\n",
              "      <td>0.4</td>\n",
              "      <td>0.8</td>\n",
              "      <td>1</td>\n",
              "    </tr>\n",
              "  </tbody>\n",
              "</table>\n",
              "</div>"
            ],
            "text/plain": [
              "   GamesPlayed  MinutesPlayed  PointsPerGame  ...  Blocks  Turnovers  Target\n",
              "0           36           27.4            7.4  ...     0.4        1.3       1\n",
              "1           35           26.9            7.2  ...     0.5        1.6       1\n",
              "2           74           15.3            5.2  ...     0.3        1.0       0\n",
              "3           58           11.6            5.7  ...     0.1        1.0       1\n",
              "4           48           11.5            4.5  ...     0.4        0.8       1\n",
              "\n",
              "[5 rows x 20 columns]"
            ]
          },
          "metadata": {
            "tags": []
          },
          "execution_count": 91
        }
      ]
    },
    {
      "cell_type": "code",
      "metadata": {
        "colab": {
          "base_uri": "https://localhost:8080/",
          "height": 215
        },
        "id": "gzAp7QpgBO0M",
        "outputId": "d186195e-7afe-4600-95b7-fea56a5cd5a4"
      },
      "source": [
        "df.head()"
      ],
      "execution_count": null,
      "outputs": [
        {
          "output_type": "execute_result",
          "data": {
            "text/html": [
              "<div>\n",
              "<style scoped>\n",
              "    .dataframe tbody tr th:only-of-type {\n",
              "        vertical-align: middle;\n",
              "    }\n",
              "\n",
              "    .dataframe tbody tr th {\n",
              "        vertical-align: top;\n",
              "    }\n",
              "\n",
              "    .dataframe thead th {\n",
              "        text-align: right;\n",
              "    }\n",
              "</style>\n",
              "<table border=\"1\" class=\"dataframe\">\n",
              "  <thead>\n",
              "    <tr style=\"text-align: right;\">\n",
              "      <th></th>\n",
              "      <th>GamesPlayed</th>\n",
              "      <th>MinutesPlayed</th>\n",
              "      <th>PointsPerGame</th>\n",
              "      <th>FieldGoalsMade</th>\n",
              "      <th>FieldGoalsAttempt</th>\n",
              "      <th>FieldGoalPercent</th>\n",
              "      <th>3PointMade</th>\n",
              "      <th>3PointAttempt</th>\n",
              "      <th>3PointPercent</th>\n",
              "      <th>FreeThrowMade</th>\n",
              "      <th>FreeThrowAttempt</th>\n",
              "      <th>FreeThrowPercent</th>\n",
              "      <th>OffensiveRebounds</th>\n",
              "      <th>DefensiveRebounds</th>\n",
              "      <th>Rebounds</th>\n",
              "      <th>Assists</th>\n",
              "      <th>Steals</th>\n",
              "      <th>Blocks</th>\n",
              "      <th>Turnovers</th>\n",
              "      <th>Target</th>\n",
              "    </tr>\n",
              "  </thead>\n",
              "  <tbody>\n",
              "    <tr>\n",
              "      <th>0</th>\n",
              "      <td>36</td>\n",
              "      <td>27.4</td>\n",
              "      <td>7.4</td>\n",
              "      <td>2.6</td>\n",
              "      <td>7.6</td>\n",
              "      <td>34.7</td>\n",
              "      <td>0.5</td>\n",
              "      <td>2.1</td>\n",
              "      <td>25.0</td>\n",
              "      <td>1.6</td>\n",
              "      <td>2.3</td>\n",
              "      <td>69.9</td>\n",
              "      <td>0.7</td>\n",
              "      <td>3.4</td>\n",
              "      <td>4.1</td>\n",
              "      <td>1.9</td>\n",
              "      <td>0.4</td>\n",
              "      <td>0.4</td>\n",
              "      <td>1.3</td>\n",
              "      <td>0</td>\n",
              "    </tr>\n",
              "    <tr>\n",
              "      <th>1</th>\n",
              "      <td>35</td>\n",
              "      <td>26.9</td>\n",
              "      <td>7.2</td>\n",
              "      <td>2.0</td>\n",
              "      <td>6.7</td>\n",
              "      <td>29.6</td>\n",
              "      <td>0.7</td>\n",
              "      <td>2.8</td>\n",
              "      <td>23.5</td>\n",
              "      <td>2.6</td>\n",
              "      <td>3.4</td>\n",
              "      <td>76.5</td>\n",
              "      <td>0.5</td>\n",
              "      <td>2.0</td>\n",
              "      <td>2.4</td>\n",
              "      <td>3.7</td>\n",
              "      <td>1.1</td>\n",
              "      <td>0.5</td>\n",
              "      <td>1.6</td>\n",
              "      <td>0</td>\n",
              "    </tr>\n",
              "    <tr>\n",
              "      <th>2</th>\n",
              "      <td>74</td>\n",
              "      <td>15.3</td>\n",
              "      <td>5.2</td>\n",
              "      <td>2.0</td>\n",
              "      <td>4.7</td>\n",
              "      <td>42.2</td>\n",
              "      <td>0.4</td>\n",
              "      <td>1.7</td>\n",
              "      <td>24.4</td>\n",
              "      <td>0.9</td>\n",
              "      <td>1.3</td>\n",
              "      <td>67.0</td>\n",
              "      <td>0.5</td>\n",
              "      <td>1.7</td>\n",
              "      <td>2.2</td>\n",
              "      <td>1.0</td>\n",
              "      <td>0.5</td>\n",
              "      <td>0.3</td>\n",
              "      <td>1.0</td>\n",
              "      <td>0</td>\n",
              "    </tr>\n",
              "    <tr>\n",
              "      <th>3</th>\n",
              "      <td>58</td>\n",
              "      <td>11.6</td>\n",
              "      <td>5.7</td>\n",
              "      <td>2.3</td>\n",
              "      <td>5.5</td>\n",
              "      <td>42.6</td>\n",
              "      <td>0.1</td>\n",
              "      <td>0.5</td>\n",
              "      <td>22.6</td>\n",
              "      <td>0.9</td>\n",
              "      <td>1.3</td>\n",
              "      <td>68.9</td>\n",
              "      <td>1.0</td>\n",
              "      <td>0.9</td>\n",
              "      <td>1.9</td>\n",
              "      <td>0.8</td>\n",
              "      <td>0.6</td>\n",
              "      <td>0.1</td>\n",
              "      <td>1.0</td>\n",
              "      <td>1</td>\n",
              "    </tr>\n",
              "    <tr>\n",
              "      <th>4</th>\n",
              "      <td>48</td>\n",
              "      <td>11.5</td>\n",
              "      <td>4.5</td>\n",
              "      <td>1.6</td>\n",
              "      <td>3.0</td>\n",
              "      <td>52.4</td>\n",
              "      <td>0.0</td>\n",
              "      <td>0.1</td>\n",
              "      <td>0.0</td>\n",
              "      <td>1.3</td>\n",
              "      <td>1.9</td>\n",
              "      <td>67.4</td>\n",
              "      <td>1.0</td>\n",
              "      <td>1.5</td>\n",
              "      <td>2.5</td>\n",
              "      <td>0.3</td>\n",
              "      <td>0.3</td>\n",
              "      <td>0.4</td>\n",
              "      <td>0.8</td>\n",
              "      <td>1</td>\n",
              "    </tr>\n",
              "  </tbody>\n",
              "</table>\n",
              "</div>"
            ],
            "text/plain": [
              "   GamesPlayed  MinutesPlayed  PointsPerGame  ...  Blocks  Turnovers  Target\n",
              "0           36           27.4            7.4  ...     0.4        1.3       0\n",
              "1           35           26.9            7.2  ...     0.5        1.6       0\n",
              "2           74           15.3            5.2  ...     0.3        1.0       0\n",
              "3           58           11.6            5.7  ...     0.1        1.0       1\n",
              "4           48           11.5            4.5  ...     0.4        0.8       1\n",
              "\n",
              "[5 rows x 20 columns]"
            ]
          },
          "metadata": {
            "tags": []
          },
          "execution_count": 92
        }
      ]
    },
    {
      "cell_type": "markdown",
      "metadata": {
        "id": "caywnzesBO0M"
      },
      "source": [
        "### Видно, что значени Целевой функции изменились"
      ]
    },
    {
      "cell_type": "markdown",
      "metadata": {
        "id": "GcJVG1NwBO0M"
      },
      "source": [
        "### Понижение размерности РСА\n",
        "#### Перед применением метода необходимо провести Стандартизацию данных"
      ]
    },
    {
      "cell_type": "code",
      "metadata": {
        "colab": {
          "base_uri": "https://localhost:8080/"
        },
        "id": "pTs6CpoCBO0N",
        "outputId": "3beacd1f-9d74-4d7a-ff8b-31dc990174d1"
      },
      "source": [
        "scaler = StandardScaler()\n",
        "scaler. fit(X)\n",
        "X_scaled = scaler.transform(X)\n",
        "X.shape"
      ],
      "execution_count": null,
      "outputs": [
        {
          "output_type": "execute_result",
          "data": {
            "text/plain": [
              "(1329, 19)"
            ]
          },
          "metadata": {
            "tags": []
          },
          "execution_count": 93
        }
      ]
    },
    {
      "cell_type": "markdown",
      "metadata": {
        "id": "ccwwXmYPBO0N"
      },
      "source": [
        "#### Применение РСА для исходного числа признаков, чтобы определить насколько хорошо алгоритм улавливает дисперсию данных"
      ]
    },
    {
      "cell_type": "code",
      "metadata": {
        "id": "EUtWxgjsBO0N"
      },
      "source": [
        "pca_19 = PCA(n_components=19, random_state=2020)\n",
        "pca_19.fit(X_scaled)\n",
        "X_pca_19= pca_19.transform(X_scaled)"
      ],
      "execution_count": null,
      "outputs": []
    },
    {
      "cell_type": "code",
      "metadata": {
        "colab": {
          "base_uri": "https://localhost:8080/"
        },
        "id": "LA208OzfBO0N",
        "outputId": "3c20fcdc-afa7-4a1c-b1d7-abf885aaf9ae"
      },
      "source": [
        "print(\"Дисперсия, объяснённая всеми 19 главными компонентами =\",\n",
        "    sum(pca_19.explained_variance_ratio_ * 100))"
      ],
      "execution_count": null,
      "outputs": [
        {
          "output_type": "stream",
          "text": [
            "Дисперсия, объяснённая всеми 19 главными компонентами = 100.0\n"
          ],
          "name": "stdout"
        }
      ]
    },
    {
      "cell_type": "code",
      "metadata": {
        "colab": {
          "base_uri": "https://localhost:8080/"
        },
        "id": "ubvbUtRZBO0O",
        "outputId": "d5e13637-f0e8-427e-e2d4-0a39d38a27d6"
      },
      "source": [
        "pca_19.explained_variance_ratio_ * 100"
      ],
      "execution_count": null,
      "outputs": [
        {
          "output_type": "execute_result",
          "data": {
            "text/plain": [
              "array([5.01810915e+01, 2.05040204e+01, 6.46465921e+00, 4.59853310e+00,\n",
              "       3.91243337e+00, 3.11987584e+00, 2.64149175e+00, 2.35265498e+00,\n",
              "       2.09398421e+00, 1.37178221e+00, 1.22311987e+00, 5.79383599e-01,\n",
              "       5.26487280e-01, 2.85460022e-01, 7.73061345e-02, 4.03577977e-02,\n",
              "       2.45342424e-02, 1.93696018e-03, 8.87536458e-04])"
            ]
          },
          "metadata": {
            "tags": []
          },
          "execution_count": 96
        }
      ]
    },
    {
      "cell_type": "markdown",
      "metadata": {
        "id": "Ku4CB2V5BO0O"
      },
      "source": [
        "### Первый главный компонент, один из признако вобъясняет 50 процентов дисперсии и тд"
      ]
    },
    {
      "cell_type": "markdown",
      "metadata": {
        "id": "_aiGMX0YBO0O"
      },
      "source": [
        "#### Построение графика зависимости процента объяснённой дисперсии от количества компонентов"
      ]
    },
    {
      "cell_type": "code",
      "metadata": {
        "colab": {
          "base_uri": "https://localhost:8080/"
        },
        "id": "o5K83VurBO0P",
        "outputId": "d5a2037c-c7e1-4af2-f609-cd7571bbc943"
      },
      "source": [
        "plt.plot(np.cumsum(pca_19.explained_variance_ratio_))\n",
        "plt.xlabel('Число компонентов')\n",
        "plt.ylabel('% объяснённой дисперсии')"
      ],
      "execution_count": null,
      "outputs": [
        {
          "output_type": "execute_result",
          "data": {
            "text/plain": [
              "Text(0, 0.5, '% объяснённой дисперсии')"
            ]
          },
          "metadata": {
            "tags": []
          },
          "execution_count": 97
        },
        {
          "output_type": "display_data",
          "data": {
            "image/png": "[encoded data removed]",
            "text/plain": [
              "<Figure size 432x288 with 1 Axes>"
            ]
          },
          "metadata": {
            "tags": []
          }
        }
      ]
    },
    {
      "cell_type": "markdown",
      "metadata": {
        "id": "fbBkvnj9BO0P"
      },
      "source": [
        "### По графику видно, что 12 признаков из 19 объясняют почти весь набор данных"
      ]
    },
    {
      "cell_type": "code",
      "metadata": {
        "colab": {
          "base_uri": "https://localhost:8080/"
        },
        "id": "1EftXuTLBO0P",
        "outputId": "ce9ec287-804c-462c-f7c7-8eacab768ae3"
      },
      "source": [
        "print(\"Дисперсия, объяснённая первым главным компонентом =\",\n",
        "      np.cumsum(pca_19.explained_variance_ratio_ * 100)[0])\n",
        "print(\"Дисперсия, объяснённая первыми двумя главными компонентами =\",\n",
        "      np.cumsum(pca_19.explained_variance_ratio_ * 100)[1])\n",
        "print(\"Дисперсия, объяснённая первыми тремя главными компонентами =\" ,\n",
        "      np.cumsum(pca_19.explained_variance_ratio_ * 100)[2])\n",
        "print(\"Дисперсия, объяснённая первыми 12 главными компонентами =\",\n",
        "      np.cumsum(pca_19.explained_variance_ratio_*100)[11])"
      ],
      "execution_count": null,
      "outputs": [
        {
          "output_type": "stream",
          "text": [
            "Дисперсия, объяснённая первым главным компонентом = 50.18109150871767\n",
            "Дисперсия, объяснённая первыми двумя главными компонентами = 70.68511189168589\n",
            "Дисперсия, объяснённая первыми тремя главными компонентами = 77.14977109967892\n",
            "Дисперсия, объяснённая первыми 12 главными компонентами = 99.04303002675535\n"
          ],
          "name": "stdout"
        }
      ]
    },
    {
      "cell_type": "markdown",
      "metadata": {
        "id": "YvlTFmiXBO0P"
      },
      "source": [
        "#### Проведем РСА с сохранением 99% дисперсии"
      ]
    },
    {
      "cell_type": "code",
      "metadata": {
        "id": "ha2OHX-IBO0Q"
      },
      "source": [
        "pca_99 = PCA(n_components=0.99, random_state=2020)\n",
        "pca_99.fit(X_scaled)\n",
        "X_pca_99 = pca_99.transform(X_scaled)"
      ],
      "execution_count": null,
      "outputs": []
    },
    {
      "cell_type": "code",
      "metadata": {
        "colab": {
          "base_uri": "https://localhost:8080/"
        },
        "id": "Idpe8UPPBO0Q",
        "outputId": "ebd2b9cb-27b8-4fa9-a1a5-b4b5166ce71a"
      },
      "source": [
        "X_pca_99.shape"
      ],
      "execution_count": null,
      "outputs": [
        {
          "output_type": "execute_result",
          "data": {
            "text/plain": [
              "(1329, 12)"
            ]
          },
          "metadata": {
            "tags": []
          },
          "execution_count": 100
        }
      ]
    },
    {
      "cell_type": "markdown",
      "metadata": {
        "id": "7Aj18dfdBO0Q"
      },
      "source": [
        "#### Уменьшили количество признаков до 12, теперь соединяем датасет с ЦФ"
      ]
    },
    {
      "cell_type": "code",
      "metadata": {
        "id": "GtsAXnkqBO0Q"
      },
      "source": [
        "dfKlaster_PCA = pd.DataFrame(X_pca_99, columns=['PC1', 'PC2', 'PC3', 'PC4', 'PC5','PC6', 'PC7', 'PC8','PC9', 'PC10', 'PC11', 'PC12'])"
      ],
      "execution_count": null,
      "outputs": []
    },
    {
      "cell_type": "code",
      "metadata": {
        "colab": {
          "base_uri": "https://localhost:8080/"
        },
        "id": "MuSwr3cJBO0R",
        "outputId": "9d74c065-e7d0-4536-dfeb-c8389279f57e"
      },
      "source": [
        "Target=dfKlaster['Target']\n",
        "dfKlaster_PCA= pd.concat([dfKlaster_PCA, Target], axis=1)\n",
        "dfKlaster_PCA.head()"
      ],
      "execution_count": null,
      "outputs": [
        {
          "output_type": "execute_result",
          "data": {
            "text/html": [
              "<div>\n",
              "<style scoped>\n",
              "    .dataframe tbody tr th:only-of-type {\n",
              "        vertical-align: middle;\n",
              "    }\n",
              "\n",
              "    .dataframe tbody tr th {\n",
              "        vertical-align: top;\n",
              "    }\n",
              "\n",
              "    .dataframe thead th {\n",
              "        text-align: right;\n",
              "    }\n",
              "</style>\n",
              "<table border=\"1\" class=\"dataframe\">\n",
              "  <thead>\n",
              "    <tr style=\"text-align: right;\">\n",
              "      <th></th>\n",
              "      <th>PC1</th>\n",
              "      <th>PC2</th>\n",
              "      <th>PC3</th>\n",
              "      <th>PC4</th>\n",
              "      <th>PC5</th>\n",
              "      <th>PC6</th>\n",
              "      <th>PC7</th>\n",
              "      <th>PC8</th>\n",
              "      <th>PC9</th>\n",
              "      <th>PC10</th>\n",
              "      <th>PC11</th>\n",
              "      <th>PC12</th>\n",
              "      <th>Target</th>\n",
              "    </tr>\n",
              "  </thead>\n",
              "  <tbody>\n",
              "    <tr>\n",
              "      <th>0</th>\n",
              "      <td>0.752446</td>\n",
              "      <td>1.225623</td>\n",
              "      <td>1.417699</td>\n",
              "      <td>1.114709</td>\n",
              "      <td>1.478161</td>\n",
              "      <td>0.482505</td>\n",
              "      <td>-0.391775</td>\n",
              "      <td>0.260648</td>\n",
              "      <td>-0.360249</td>\n",
              "      <td>0.138662</td>\n",
              "      <td>-0.782671</td>\n",
              "      <td>0.841939</td>\n",
              "      <td>1.0</td>\n",
              "    </tr>\n",
              "    <tr>\n",
              "      <th>1</th>\n",
              "      <td>1.369880</td>\n",
              "      <td>2.999660</td>\n",
              "      <td>0.155569</td>\n",
              "      <td>1.606580</td>\n",
              "      <td>1.931763</td>\n",
              "      <td>0.845466</td>\n",
              "      <td>-0.891332</td>\n",
              "      <td>0.576567</td>\n",
              "      <td>0.654485</td>\n",
              "      <td>-1.338103</td>\n",
              "      <td>-0.122668</td>\n",
              "      <td>0.274873</td>\n",
              "      <td>1.0</td>\n",
              "    </tr>\n",
              "    <tr>\n",
              "      <th>2</th>\n",
              "      <td>-0.978817</td>\n",
              "      <td>0.797069</td>\n",
              "      <td>0.579092</td>\n",
              "      <td>-0.059004</td>\n",
              "      <td>-0.809308</td>\n",
              "      <td>0.242194</td>\n",
              "      <td>-0.155354</td>\n",
              "      <td>-0.783915</td>\n",
              "      <td>0.216279</td>\n",
              "      <td>-0.150613</td>\n",
              "      <td>0.015313</td>\n",
              "      <td>0.202460</td>\n",
              "      <td>0.0</td>\n",
              "    </tr>\n",
              "    <tr>\n",
              "      <th>3</th>\n",
              "      <td>-1.390802</td>\n",
              "      <td>0.113382</td>\n",
              "      <td>-0.352939</td>\n",
              "      <td>-0.047073</td>\n",
              "      <td>0.088370</td>\n",
              "      <td>-0.169813</td>\n",
              "      <td>0.460905</td>\n",
              "      <td>-0.333485</td>\n",
              "      <td>-0.294310</td>\n",
              "      <td>0.127931</td>\n",
              "      <td>0.511613</td>\n",
              "      <td>-0.418621</td>\n",
              "      <td>1.0</td>\n",
              "    </tr>\n",
              "    <tr>\n",
              "      <th>4</th>\n",
              "      <td>-1.641404</td>\n",
              "      <td>-1.865789</td>\n",
              "      <td>-0.223249</td>\n",
              "      <td>-0.291817</td>\n",
              "      <td>0.104649</td>\n",
              "      <td>-1.215167</td>\n",
              "      <td>-0.484791</td>\n",
              "      <td>0.220244</td>\n",
              "      <td>0.330581</td>\n",
              "      <td>-0.450783</td>\n",
              "      <td>-0.113737</td>\n",
              "      <td>-0.016799</td>\n",
              "      <td>1.0</td>\n",
              "    </tr>\n",
              "  </tbody>\n",
              "</table>\n",
              "</div>"
            ],
            "text/plain": [
              "        PC1       PC2       PC3       PC4  ...      PC10      PC11      PC12  Target\n",
              "0  0.752446  1.225623  1.417699  1.114709  ...  0.138662 -0.782671  0.841939     1.0\n",
              "1  1.369880  2.999660  0.155569  1.606580  ... -1.338103 -0.122668  0.274873     1.0\n",
              "2 -0.978817  0.797069  0.579092 -0.059004  ... -0.150613  0.015313  0.202460     0.0\n",
              "3 -1.390802  0.113382 -0.352939 -0.047073  ...  0.127931  0.511613 -0.418621     1.0\n",
              "4 -1.641404 -1.865789 -0.223249 -0.291817  ... -0.450783 -0.113737 -0.016799     1.0\n",
              "\n",
              "[5 rows x 13 columns]"
            ]
          },
          "metadata": {
            "tags": []
          },
          "execution_count": 102
        }
      ]
    },
    {
      "cell_type": "code",
      "metadata": {
        "colab": {
          "base_uri": "https://localhost:8080/"
        },
        "id": "ikIJ8KsFBO0R",
        "outputId": "e18de0e4-5bef-4de4-9d09-dc83c7e3100b"
      },
      "source": [
        "dfKlaster_PCA.shape #Не знаю,почему тут добавляются строки лишние, из-за них появляются пустые значения, которые я удаляю дальше"
      ],
      "execution_count": null,
      "outputs": [
        {
          "output_type": "execute_result",
          "data": {
            "text/plain": [
              "(1340, 13)"
            ]
          },
          "metadata": {
            "tags": []
          },
          "execution_count": 103
        }
      ]
    },
    {
      "cell_type": "code",
      "metadata": {
        "id": "FAcWW-7ABO0R"
      },
      "source": [
        "dfKlaster_PCA=dfKlaster_PCA.dropna()"
      ],
      "execution_count": null,
      "outputs": []
    },
    {
      "cell_type": "markdown",
      "metadata": {
        "id": "U7pVKQFyBO0S"
      },
      "source": [
        "### Снова строим модель классификации и сверяем параметры. Буду делать на логистической"
      ]
    },
    {
      "cell_type": "code",
      "metadata": {
        "id": "0qrav6fUBO0S"
      },
      "source": [
        "X = dfKlaster_PCA.drop(['Target'], axis=1)\n",
        "y = dfKlaster_PCA['Target']\n",
        "X_train, X_test, y_train, y_test = train_test_split(X, y, test_size=0.2, random_state=True)"
      ],
      "execution_count": null,
      "outputs": []
    },
    {
      "cell_type": "code",
      "metadata": {
        "colab": {
          "base_uri": "https://localhost:8080/"
        },
        "id": "ze9_8JsPBO0S",
        "outputId": "ab52171f-e3b3-47fb-f189-d3cd562844d2"
      },
      "source": [
        "dfKlaster_PCA.shape"
      ],
      "execution_count": null,
      "outputs": [
        {
          "output_type": "execute_result",
          "data": {
            "text/plain": [
              "(1318, 13)"
            ]
          },
          "metadata": {
            "tags": []
          },
          "execution_count": 106
        }
      ]
    },
    {
      "cell_type": "code",
      "metadata": {
        "colab": {
          "base_uri": "https://localhost:8080/"
        },
        "id": "d9IzBObNBO0S",
        "outputId": "95052bf5-2bd9-41ff-e6a0-f1ca103f399c"
      },
      "source": [
        "LogRegr2 = LogisticRegression()\n",
        "LogRegr2.fit(X_train, y_train)"
      ],
      "execution_count": null,
      "outputs": [
        {
          "output_type": "execute_result",
          "data": {
            "text/plain": [
              "LogisticRegression(C=1.0, class_weight=None, dual=False, fit_intercept=True,\n",
              "                   intercept_scaling=1, l1_ratio=None, max_iter=100,\n",
              "                   multi_class='auto', n_jobs=None, penalty='l2',\n",
              "                   random_state=None, solver='lbfgs', tol=0.0001, verbose=0,\n",
              "                   warm_start=False)"
            ]
          },
          "metadata": {
            "tags": []
          },
          "execution_count": 107
        }
      ]
    },
    {
      "cell_type": "code",
      "metadata": {
        "id": "YvYuSHjZBO0T"
      },
      "source": [
        "y_pred = LogRegr2.predict(X_test)"
      ],
      "execution_count": null,
      "outputs": []
    },
    {
      "cell_type": "code",
      "metadata": {
        "colab": {
          "base_uri": "https://localhost:8080/",
          "height": 299
        },
        "id": "Sy2PBcZuBO0T",
        "outputId": "e096f6c8-4e91-4a9b-d235-319859f50b70"
      },
      "source": [
        "class_names = [0, 1]\n",
        "fig, ax = plt.subplots()\n",
        "ticks = np.arange(len(class_names))\n",
        "plt.xticks(ticks, class_names)\n",
        "plt.yticks(ticks, class_names)\n",
        "\n",
        "sns.heatmap(pd.DataFrame(\n",
        "    metrics.confusion_matrix(y_test, y_pred)),\n",
        "    annot=True)\n",
        "plt.ylabel('Действительные значения')\n",
        "plt.xlabel('Предсказанные значения')"
      ],
      "execution_count": null,
      "outputs": [
        {
          "output_type": "execute_result",
          "data": {
            "text/plain": [
              "Text(0.5, 15.0, 'Предсказанные значения')"
            ]
          },
          "metadata": {
            "tags": []
          },
          "execution_count": 109
        },
        {
          "output_type": "display_data",
          "data": {
            "image/png": "[encoded data removed]",
            "text/plain": [
              "<Figure size 432x288 with 2 Axes>"
            ]
          },
          "metadata": {
            "tags": []
          }
        }
      ]
    },
    {
      "cell_type": "code",
      "metadata": {
        "colab": {
          "base_uri": "https://localhost:8080/"
        },
        "id": "vYoSnSrQBO0T",
        "outputId": "9c2e66d7-7218-41dc-e409-9658b1cd6957"
      },
      "source": [
        "accuracy2,precision2,recall2=metrics.accuracy_score(y_test, y_pred), metrics.precision_score(y_test, y_pred), metrics.recall_score(y_test, y_pred)\n",
        "accuracy2,precision2,recall2"
      ],
      "execution_count": null,
      "outputs": [
        {
          "output_type": "execute_result",
          "data": {
            "text/plain": [
              "(0.6060606060606061, 0.6039603960396039, 0.488)"
            ]
          },
          "metadata": {
            "tags": []
          },
          "execution_count": 110
        }
      ]
    },
    {
      "cell_type": "code",
      "metadata": {
        "colab": {
          "base_uri": "https://localhost:8080/"
        },
        "id": "CylHORR-BO0U",
        "outputId": "6d3cc256-8375-4c13-e20d-8e455c6fffb4"
      },
      "source": [
        "accuracy1,precision1,recall1"
      ],
      "execution_count": null,
      "outputs": [
        {
          "output_type": "execute_result",
          "data": {
            "text/plain": [
              "(0.6616541353383458, 0.6971428571428572, 0.7672955974842768)"
            ]
          },
          "metadata": {
            "tags": []
          },
          "execution_count": 111
        }
      ]
    },
    {
      "cell_type": "markdown",
      "metadata": {
        "id": "QjFxVe97BO0U"
      },
      "source": [
        "### После применения метода Ксредних и РСА модель стала хуже\n"
      ]
    },
    {
      "cell_type": "code",
      "metadata": {
        "id": "ZvNK2GRIBO0U"
      },
      "source": [
        ""
      ],
      "execution_count": null,
      "outputs": []
    }
  ]
}